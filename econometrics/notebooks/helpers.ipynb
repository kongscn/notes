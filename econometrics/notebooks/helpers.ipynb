{
 "metadata": {
  "name": "helpers"
 },
 "nbformat": 3,
 "nbformat_minor": 0,
 "worksheets": [
  {
   "cells": [
    {
     "cell_type": "code",
     "collapsed": false,
     "input": [
      "%%file base/rhelper.r\n",
      "# Simplifies stopifnot\n",
      "# Quite a bad implementation.\n",
      "assert.equal=function(x, y, precision=5){\n",
      "    if(all(round(x, precision) != round(y, precision))){\n",
      "       message('Error: ', deparse(substitute(x)), ' != ', deparse(substitute(y)))\n",
      "       stopifnot(FALSE)\n",
      "       }\n",
      "    \n",
      "}\n",
      "\n",
      "# necessory? or just use message instead?\n",
      "echo = function(..., fill=TRUE){\n",
      "    cat(..., fill=fill)\n",
      "}"
     ],
     "language": "python",
     "metadata": {},
     "outputs": [
      {
       "output_type": "stream",
       "stream": "stdout",
       "text": [
        "Overwriting base/rhelper.r\n"
       ]
      }
     ],
     "prompt_number": 2
    },
    {
     "cell_type": "code",
     "collapsed": false,
     "input": [],
     "language": "python",
     "metadata": {},
     "outputs": []
    }
   ],
   "metadata": {}
  }
 ]
}