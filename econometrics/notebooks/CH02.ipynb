{
 "metadata": {
  "name": ""
 },
 "nbformat": 3,
 "nbformat_minor": 0,
 "worksheets": [
  {
   "cells": [
    {
     "cell_type": "heading",
     "level": 1,
     "metadata": {},
     "source": [
      "Chapter 2: The Simple Regression Model"
     ]
    },
    {
     "cell_type": "markdown",
     "metadata": {},
     "source": [
      "Try save and refresh this page for improperly displayed equations aftering changing it. "
     ]
    },
    {
     "cell_type": "heading",
     "level": 2,
     "metadata": {},
     "source": [
      "1 Theory"
     ]
    },
    {
     "cell_type": "heading",
     "level": 3,
     "metadata": {},
     "source": [
      "1.1 Derive OLS Estimates"
     ]
    },
    {
     "cell_type": "markdown",
     "metadata": {},
     "source": [
      "\\begin{eqnarray}\n",
      "\\hat{\\beta}_1 &=& \\frac{\\sum_{i=1}^n (x_i-\\overline{x})(y_i - \\overline{y})}\n",
      "                       {\\sum_{i=1}^n (x_i-\\overline{x})^2} \\\\[6pt]\n",
      "\\hat{\\beta}_0 &=& \\overline{y} - \\hat{\\beta}_1 \\overline{x} \n",
      "\\end{eqnarray}"
     ]
    },
    {
     "cell_type": "heading",
     "level": 3,
     "metadata": {},
     "source": [
      "1.2 Properties of OLS on Any Sample of Data"
     ]
    },
    {
     "cell_type": "markdown",
     "metadata": {},
     "source": [
      "Algebraic Properties of OLS Statistics\n",
      "\n",
      "* The sum, and therefore the sample average of the OLS residuals, is zero:\n",
      "\n",
      "* The sample covariance between the regressors and the OLS residuals is zero.\n",
      "\n",
      "**Mathematically**, we have:"
     ]
    },
    {
     "cell_type": "markdown",
     "metadata": {},
     "source": [
      "\\begin{eqnarray}\n",
      "\\sum_{i=1}^n \\hat{u}_i = 0 \\\\\n",
      "\\sum_{i=1}^n x_i\\hat{u}_i = 0\n",
      "\\end{eqnarray}"
     ]
    },
    {
     "cell_type": "markdown",
     "metadata": {},
     "source": [
      "**SST**: *total* sum of squares\n",
      "\n",
      "**SSE**: *explained* sum of squares\n",
      "\n",
      "**SSR**: *residual* sum of squares\n",
      "\n",
      "\\begin{eqnarray}\n",
      "\\text{SST} &\\equiv& \\sum_{i=1}^n (y_i-\\overline{y})^2 \\\\\n",
      "\\text{SSE} &\\equiv& \\sum_{i=1}^n (\\hat{y}_i-\\overline{y})^2 \\\\\n",
      "\\text{SSR} &\\equiv& \\sum_{i=1}^n \\hat{u}_i^2 = \\sum_{i=1}^n (y_i - \\hat{y}_i)^2\n",
      "\\end{eqnarray}\n",
      "\n",
      "And we have:\n",
      "\n",
      "\\begin{equation}\n",
      "\\text{SST}=\\text{SSE}+\\text{SSR}\n",
      "\\end{equation}"
     ]
    },
    {
     "cell_type": "heading",
     "level": 3,
     "metadata": {},
     "source": [
      "Goodness of Fit"
     ]
    },
    {
     "cell_type": "markdown",
     "metadata": {},
     "source": [
      "\\begin{equation}\n",
      "R^2 \\equiv \\text{SSE}/\\text{SST} = 1-\\text{SSR}/\\text{SST}\n",
      "\\end{equation}"
     ]
    },
    {
     "cell_type": "heading",
     "level": 2,
     "metadata": {},
     "source": [
      "Expected values and variances of the OLS estimators"
     ]
    },
    {
     "cell_type": "markdown",
     "metadata": {},
     "source": [
      "\\begin{eqnarray}\n",
      "\\hat{\\sigma}^2 &=& \\frac{1}{n-2} \\sum_{i=1}^n \\hat{u}_i^2 \n",
      "               &=& \\text{SSR}/(n-2) \\\\[6pt]\n",
      "\\text{Var}(\\hat{\\beta}_1) &=& \\frac{\\sigma^2}{\\sum (x_i - \\overline{x})^2} \n",
      "                          &=& \\sigma^2 / \\text{SST}_x \\\\[6pt]\n",
      "\\text{Var}(\\hat{\\beta}_0) &=& \\frac{\\sigma^2 n^{-1} \\sum x_i^2}\n",
      "                                   {\\sum (x_i - \\overline{x})^2} \n",
      "                          &=& \\frac{\\sigma^2}{\\text{SST}_x} \\frac{\\sum x_i^2}{n}\n",
      "\\end{eqnarray}"
     ]
    },
    {
     "cell_type": "heading",
     "level": 2,
     "metadata": {},
     "source": [
      "Examples"
     ]
    },
    {
     "cell_type": "heading",
     "level": 3,
     "metadata": {},
     "source": [
      "eg 2.3 Calculating OLS  estimates"
     ]
    },
    {
     "cell_type": "markdown",
     "metadata": {},
     "source": [
      "*on page 33*\n",
      "\n",
      "**Answer**\n",
      "\n",
      "salary = 963.191 + 18.501 * roe"
     ]
    },
    {
     "cell_type": "heading",
     "level": 4,
     "metadata": {},
     "source": [
      "R"
     ]
    },
    {
     "cell_type": "code",
     "collapsed": false,
     "input": [
      "%%writefile eg-2.3.r\n",
      "# R code for example 2.3 on page 33\n",
      "\n",
      "source('base/rhelper.r')\n",
      "\n",
      "ceosal = read.csv(\"../datasets/raw/CEOSAL1.csv\")\n",
      "lrm = lm(salary~roe, data=ceosal)\n",
      "summ = summary(lrm)\n",
      "summ\n",
      "\n",
      "# verify coefficients\n",
      "assert.equal(lrm$coefficients['(Intercept)'], 963.191, precision=3)\n",
      "assert.equal(lrm$coefficients['roe'], 18.501, precision=3)\n",
      "\n",
      "\n",
      "# under the hood\n",
      "\n",
      "# deriving estomators\n",
      "xbar = mean(ceosal$roe)\n",
      "ybar = mean(ceosal$salary)\n",
      "\n",
      "beta1 = crossprod(ceosal$roe-xbar, ceosal$salary-ybar)/crossprod(ceosal$roe-xbar)\n",
      "beta0 = ybar - beta1*xbar\n",
      "\n",
      "assert.equal(beta0, lrm$coefficients[1])\n",
      "assert.equal(beta1, lrm$coefficients['roe'])\n",
      "\n",
      "# use cov and var\n",
      "beta1_2 = cov(ceosal$salary, ceosal$roe)/var(ceosal$roe)\n",
      "assert.equal(beta1_2, beta1)\n",
      "\n",
      "message(\"beta1 = \", beta1)\n",
      "message(\"beta0 = \", beta0)\n",
      "\n",
      "\n",
      "# std error of extomators\n",
      "# residuals and fitted values can be found in lm object,\n",
      "# but let't get it from scratch now.\n",
      "\n",
      "fitted = beta0 + beta1 * ceosal$roe\n",
      "residuals = ceosal$salary - fitted\n",
      "n = nobs(lrm)\n",
      "\n",
      "SSR = crossprod(residuals)\n",
      "SSE = crossprod(fitted - mean(fitted))\n",
      "SST = crossprod(ceosal$salary - mean(ceosal$salary))\n",
      "\n",
      "R_square = 1 - SSR/SST\n",
      "\n",
      "assert.equal(SSE + SSR, SST)\n",
      "assert.equal(R_square, summ$r.squared)\n",
      "\n",
      "# R square can be interpreted as the square of correlation \n",
      "# coefficient of y and fitted value\n",
      "R_square_cor = cor(ceosal$salary, fitted)**2\n",
      "assert.equal(R_square, R_square_cor)\n",
      "\n",
      "\n",
      "salary.var = SSR/(n-2)\n",
      "assert.equal(sqrt(salary.var), summ$sigma)\n",
      "\n",
      "SST_x = crossprod(ceosal$roe - mean(ceosal$roe))\n",
      "\n",
      "beta1.var = salary.var / SST_x\n",
      "beta0.var = beta1.var * crossprod(ceosal$roe) / n\n",
      "\n",
      "beta1.se = sqrt(beta1.var)\n",
      "beta0.se = sqrt(beta0.var)\n",
      "\n",
      "assert.equal(sqrt(beta1.var), summ$coefficients['roe', 'Std. Error'])\n",
      "assert.equal(sqrt(beta0.var), summ$coefficients['(Intercept)', 'Std. Error'])\n",
      "message(\"se(beta1) = \", sqrt(beta1.var))\n",
      "message(\"se(beta0) = \", sqrt(beta0.var))\n",
      "\n",
      "\n"
     ],
     "language": "python",
     "metadata": {},
     "outputs": [
      {
       "output_type": "stream",
       "stream": "stdout",
       "text": [
        "Overwriting eg-2.3.r\n"
       ]
      }
     ],
     "prompt_number": 1
    },
    {
     "cell_type": "code",
     "collapsed": false,
     "input": [
      "!Rscript --vanilla eg-2.3.r"
     ],
     "language": "python",
     "metadata": {},
     "outputs": [
      {
       "output_type": "stream",
       "stream": "stdout",
       "text": [
        "\r\n",
        "Call:\r\n",
        "lm(formula = salary ~ roe, data = ceosal)\r\n",
        "\r\n",
        "Residuals:\r\n",
        "    Min      1Q  Median      3Q     Max \r\n",
        "-1160.2  -526.0  -254.0   138.8 13499.9 \r\n",
        "\r\n",
        "Coefficients:\r\n",
        "            Estimate Std. Error t value Pr(>|t|)    \r\n",
        "(Intercept)   963.19     213.24   4.517 1.05e-05 ***\r\n",
        "roe            18.50      11.12   1.663   0.0978 .  \r\n",
        "---\r\n",
        "Signif. codes:  0 \u2018***\u2019 0.001 \u2018**\u2019 0.01 \u2018*\u2019 0.05 \u2018.\u2019 0.1 \u2018 \u2019 1\r\n",
        "\r\n",
        "Residual standard error: 1367 on 207 degrees of freedom\r\n",
        "Multiple R-squared:  0.01319,\tAdjusted R-squared:  0.008421 \r\n",
        "F-statistic: 2.767 on 1 and 207 DF,  p-value: 0.09777\r\n",
        "\r\n"
       ]
      },
      {
       "output_type": "stream",
       "stream": "stdout",
       "text": [
        "beta1 = 18.5011868461902\r\n",
        "beta0 = 963.191327473243\r\n"
       ]
      },
      {
       "output_type": "stream",
       "stream": "stdout",
       "text": [
        "se(beta1) = 11.1232508911996\r\n",
        "se(beta0) = 213.240256913677\r\n"
       ]
      }
     ],
     "prompt_number": 2
    },
    {
     "cell_type": "heading",
     "level": 4,
     "metadata": {},
     "source": [
      "Stata"
     ]
    },
    {
     "cell_type": "code",
     "collapsed": false,
     "input": [
      "%%writefile eg-2.3.do\n",
      "* stata do script for example 2.3 on page 29\n",
      "insheet using \"../datasets/raw/CEOSAL1.csv\", comma clear\n",
      "regress salary roe\n"
     ],
     "language": "python",
     "metadata": {},
     "outputs": [
      {
       "output_type": "stream",
       "stream": "stdout",
       "text": [
        "Overwriting eg-2.3.do\n"
       ]
      }
     ],
     "prompt_number": 3
    },
    {
     "cell_type": "code",
     "collapsed": false,
     "input": [
      "# %%script --out sys.stdout stata-se -q -b do eg-2.2.3.do\n",
      "# works bad\n",
      "\n",
      "!stata -q < eg-2.3.do"
     ],
     "language": "python",
     "metadata": {},
     "outputs": [
      {
       "output_type": "stream",
       "stream": "stdout",
       "text": [
        "\r\n",
        ". * stata do script for example 2.3 on page 29\r\n",
        "\r\n",
        ". insheet using \"../datasets/raw/CEOSAL1.csv\", comma clear\r\n",
        "(12 vars, 209 obs)\r\n",
        "\r\n",
        ". regress salary roe"
       ]
      }
     ],
     "prompt_number": 4
    },
    {
     "cell_type": "heading",
     "level": 2,
     "metadata": {},
     "source": [
      "Computer Exercies"
     ]
    },
    {
     "cell_type": "code",
     "collapsed": false,
     "input": [
      "%%writefile cx-2.1.r\n",
      "data = read.csv(\"../datasets/raw/401K.csv\")\n",
      "summary(data)\n",
      "lmobj = lm(prate~mrate, data=data)\n",
      "summ = summary(lmobj)\n",
      "summ\n",
      "\n",
      "predict(lmobj, data.frame(mrate=3.5))\n"
     ],
     "language": "python",
     "metadata": {},
     "outputs": [
      {
       "output_type": "stream",
       "stream": "stdout",
       "text": [
        "Overwriting cx-2.1.r\n"
       ]
      }
     ],
     "prompt_number": 5
    },
    {
     "cell_type": "code",
     "collapsed": false,
     "input": [
      "!Rscript --vanilla cx-2.1.r"
     ],
     "language": "python",
     "metadata": {},
     "outputs": [
      {
       "output_type": "stream",
       "stream": "stdout",
       "text": [
        "     prate            mrate           totpart            totelg       \r\n",
        " Min.   :  3.00   Min.   :0.0100   Min.   :   50.0   Min.   :   51.0  \r\n",
        " 1st Qu.: 78.03   1st Qu.:0.3000   1st Qu.:  156.2   1st Qu.:  176.0  \r\n",
        " Median : 95.70   Median :0.4600   Median :  276.0   Median :  330.0  \r\n",
        " Mean   : 87.36   Mean   :0.7315   Mean   : 1354.2   Mean   : 1628.5  \r\n",
        " 3rd Qu.:100.00   3rd Qu.:0.8300   3rd Qu.:  749.5   3rd Qu.:  890.5  \r\n",
        " Max.   :100.00   Max.   :4.9100   Max.   :58811.0   Max.   :70429.0  \r\n",
        "      age            totemp            sole           ltotemp      \r\n",
        " Min.   : 4.00   Min.   :    58   Min.   :0.0000   Min.   : 4.060  \r\n",
        " 1st Qu.: 7.00   1st Qu.:   261   1st Qu.:0.0000   1st Qu.: 5.565  \r\n",
        " Median : 9.00   Median :   588   Median :0.0000   Median : 6.377  \r\n",
        " Mean   :13.18   Mean   :  3567   Mean   :0.4876   Mean   : 6.686  \r\n",
        " 3rd Qu.:18.00   3rd Qu.:  1804   3rd Qu.:1.0000   3rd Qu.: 7.498  \r\n",
        " Max.   :51.00   Max.   :140000   Max.   :1.0000   Max.   :11.880  \r\n",
        "\r\n",
        "Call:\r\n",
        "lm(formula = prate ~ mrate, data = data)\r\n",
        "\r\n",
        "Residuals:\r\n",
        "    Min      1Q  Median      3Q     Max \r\n",
        "-82.303  -8.184   5.178  12.712  16.807 \r\n",
        "\r\n",
        "Coefficients:\r\n",
        "            Estimate Std. Error t value Pr(>|t|)    \r\n",
        "(Intercept)  83.0755     0.5633  147.48   <2e-16 ***\r\n",
        "mrate         5.8611     0.5270   11.12   <2e-16 ***\r\n",
        "---\r\n",
        "Signif. codes:  0 \u2018***\u2019 0.001 \u2018**\u2019 0.01 \u2018*\u2019 0.05 \u2018.\u2019 0.1 \u2018 \u2019 1\r\n",
        "\r\n",
        "Residual standard error: 16.09 on 1532 degrees of freedom\r\n",
        "Multiple R-squared:  0.0747,\tAdjusted R-squared:  0.0741 \r\n",
        "F-statistic: 123.7 on 1 and 1532 DF,  p-value: < 2.2e-16\r\n",
        "\r\n"
       ]
      },
      {
       "output_type": "stream",
       "stream": "stdout",
       "text": [
        "       1 \r\n",
        "103.5892 \r\n"
       ]
      }
     ],
     "prompt_number": 6
    },
    {
     "cell_type": "code",
     "collapsed": false,
     "input": [
      "%%writefile cx-2.2.r\n",
      "data = read.csv(\"../datasets/raw/CEOSAL2.csv\")\n",
      "summary(data)\n",
      "\n",
      "length(data[data$ceoten==0,])\n",
      "lmobj = lm(log(salary)~ceoten, data=data)\n",
      "summary(lmobj)\n"
     ],
     "language": "python",
     "metadata": {},
     "outputs": [
      {
       "output_type": "stream",
       "stream": "stdout",
       "text": [
        "Overwriting cx-2.2.r\n"
       ]
      }
     ],
     "prompt_number": 7
    },
    {
     "cell_type": "code",
     "collapsed": false,
     "input": [
      "!Rscript cx-2.2.r"
     ],
     "language": "python",
     "metadata": {},
     "outputs": [
      {
       "output_type": "stream",
       "stream": "stdout",
       "text": [
        "     salary            age           college            grad       \r\n",
        " Min.   : 100.0  "
       ]
      },
      {
       "output_type": "stream",
       "stream": "stdout",
       "text": [
        " Min.   :33.00   Min.   :0.0000   Min.   :0.0000  \r\n",
        " 1st Qu.: 471.0   1st Qu.:52.00   1st Qu.:1.0000   1st Qu.:0.0000  \r\n",
        " Median : 707.0   Median :57.00   Median :1.0000   Median :1.0000  \r\n",
        " Mean   : 865.9   Mean   :56.43   Mean   :0.9718   Mean   :0.5311  \r\n",
        " 3rd Qu.:1119.0   3rd Qu.:62.00   3rd Qu.:1.0000   3rd Qu.:1.0000  \r\n",
        " Max.   :5299.0   Max.   :86.00   Max.   :1.0000   Max.   :1.0000  \r\n",
        "     comten         ceoten           sales          profits      \r\n",
        " Min.   : 2.0   Min.   : 0.000   Min.   :   29   Min.   :-463.0  \r\n",
        " 1st Qu.:12.0   1st Qu.: 3.000   1st Qu.:  561   1st Qu.:  34.0  \r\n",
        " Median :23.0   Median : 6.000   Median : 1400   Median :  63.0  \r\n",
        " Mean   :22.5   Mean   : 7.955   Mean   : 3529   Mean   : 207.8  \r\n",
        " 3rd Qu.:33.0   3rd Qu.:11.000   3rd Qu.: 3500   3rd Qu.: 208.0  \r\n",
        " Max.   :58.0   Max.   :37.000   Max.   :51300   Max.   :2700.0  \r\n",
        "     mktval         lsalary          lsales          lmktval      \r\n",
        " Min.   :  387   Min.   :4.605   Min.   : 3.367   Min.   : 5.958  \r\n",
        " 1st Qu.:  644   1st Qu.:6.155   1st Qu.: 6.330   1st Qu.: 6.468  \r\n",
        " Median : 1200   Median :6.561   Median : 7.244   Median : 7.090  \r\n",
        " Mean   : 3600   Mean   :6.583   Mean   : 7.231   Mean   : 7.399  \r\n",
        " 3rd Qu.: 3500   3rd Qu.:7.020   3rd Qu.: 8.161   3rd Qu.: 8.161  \r\n",
        " Max.   :45400   Max.   :8.575   Max.   :10.845   Max.   :10.723  \r\n",
        "    comtensq         ceotensq         profmarg       \r\n",
        " Min.   :   4.0   Min.   :   0.0   Min.   :-203.077  \r\n",
        " 1st Qu.: 144.0   1st Qu.:   9.0   1st Qu.:   4.231  \r\n",
        " Median : 529.0   Median :  36.0   Median :   6.834  \r\n",
        " Mean   : 656.7   Mean   : 114.1   Mean   :   6.420  \r\n",
        " 3rd Qu.:1089.0   3rd Qu.: 121.0   3rd Qu.:  10.947  \r\n",
        " Max.   :3364.0   Max.   :1369.0   Max.   :  47.458  \r\n",
        "[1] 15\r\n",
        "\r\n",
        "Call:\r\n",
        "lm(formula = log(salary) ~ ceoten, data = data)\r\n",
        "\r\n",
        "Residuals:\r\n",
        "     Min       1Q   Median       3Q      Max \r\n",
        "-2.15314 -0.38319 -0.02251  0.44439  1.94337 \r\n",
        "\r\n",
        "Coefficients:\r\n",
        "            Estimate Std. Error t value Pr(>|t|)    \r\n",
        "(Intercept) 6.505498   0.067991  95.682   <2e-16 ***\r\n",
        "ceoten      0.009724   0.006364   1.528    0.128    \r\n",
        "---\r\n",
        "Signif. codes:  0 \u2018***\u2019 0.001 \u2018**\u2019 0.01 \u2018*\u2019 0.05 \u2018.\u2019 0.1 \u2018 \u2019 1\r\n",
        "\r\n",
        "Residual standard error: 0.6038 on 175 degrees of freedom\r\n",
        "Multiple R-squared:  0.01316,\tAdjusted R-squared:  0.007523 \r\n",
        "F-statistic: 2.334 on 1 and 175 DF,  p-value: 0.1284\r\n",
        "\r\n"
       ]
      }
     ],
     "prompt_number": 8
    },
    {
     "cell_type": "code",
     "collapsed": false,
     "input": [
      "%%writefile cx-2.3.r\n",
      "data = read.csv(\"../datasets/raw/SLEEP75.csv\")\n",
      "summary(data)\n",
      "\n",
      "lmobj=lm(sleep~totwrk, data=data)\n",
      "summ=summary(lmobj)\n",
      "summ\n",
      "\n",
      "message('Number of obs: ', nobs(lmobj))\n",
      "\n"
     ],
     "language": "python",
     "metadata": {},
     "outputs": [
      {
       "output_type": "stream",
       "stream": "stdout",
       "text": [
        "Overwriting cx-2.3.r\n"
       ]
      }
     ],
     "prompt_number": 9
    },
    {
     "cell_type": "code",
     "collapsed": false,
     "input": [
      "!Rscript cx-2.3.r"
     ],
     "language": "python",
     "metadata": {},
     "outputs": [
      {
       "output_type": "stream",
       "stream": "stdout",
       "text": [
        "      age            black              case          clerical     \r\n",
        " Min.   :23.00   Min.   :0.00000   Min.   :  1.0   Min.   :0.0000  \r\n",
        " 1st Qu.:29.00   1st Qu.:0.00000   1st Qu.:177.2   1st Qu.:0.0000  \r\n",
        " Median :36.00   Median :0.00000   Median :353.5   Median :0.0000  \r\n",
        " Mean   :38.82   Mean   :0.04958   Mean   :353.5   Mean   :0.1823  \r\n",
        " 3rd Qu.:48.00   3rd Qu.:0.00000   3rd Qu.:529.8   3rd Qu.:0.1823  \r\n",
        " Max.   :65.00   Max.   :1.00000   Max.   :706.0   Max.   :1.0000  \r\n",
        "                                                                   \r\n",
        "    construc            educ          earns74          gdhlth      \r\n",
        " Min.   :0.00000   Min.   : 1.00   Min.   :    0   Min.   :0.0000  \r\n",
        " 1st Qu.:0.00000   1st Qu.:12.00   1st Qu.: 2500   1st Qu.:1.0000  \r\n",
        " Median :0.00000   Median :12.00   Median : 8250   Median :1.0000  \r\n",
        " Mean   :0.03008   Mean   :12.78   Mean   : 9768   Mean   :0.8909  \r\n",
        " 3rd Qu.:0.03008   3rd Qu.:16.00   3rd Qu.:13750   3rd Qu.:1.0000  \r\n",
        " Max.   :1.00000   Max.   :17.00   Max.   :42500   Max.   :1.0000  \r\n",
        "                                                                   \r\n",
        "      inlf            leis1          leis2          leis3           smsa       \r\n",
        " Min.   :0.0000   Min.   :1745   Min.   :1677   Min.   :1677   Min.   :0.0000  \r\n",
        " 1st Qu.:1.0000   1st Qu.:4110   1st Qu.:3986   1st Qu.:3933   1st Qu.:0.0000  \r\n",
        " Median :1.0000   Median :4620   Median :4519   Median :4469   Median :0.0000  \r\n",
        " Mean   :0.7535   Mean   :4691   Mean   :4574   Mean   :4519   Mean   :0.3994  \r\n",
        " 3rd Qu.:1.0000   3rd Qu.:5204   3rd Qu.:5071   3rd Qu.:5028   3rd Qu.:1.0000  \r\n",
        " Max.   :1.0000   Max.   :7417   Max.   :7297   Max.   :7282   Max.   :1.0000  \r\n",
        "                                                                               \r\n",
        "    lhrwage          lothinc            male             marr       \r\n",
        " Min.   :-1.050   Min.   : 0.000   Min.   :0.0000   Min.   :0.0000  \r\n",
        " 1st Qu.: 1.061   1st Qu.: 0.000   1st Qu.:0.0000   1st Qu.:1.0000  \r\n",
        " Median : 1.477   Median : 8.613   Median :1.0000   Median :1.0000  \r\n",
        " Mean   : 1.431   Mean   : 6.228   Mean   :0.5666   Mean   :0.8215  \r\n",
        " 3rd Qu.: 1.826   3rd Qu.: 9.328   3rd Qu.:1.0000   3rd Qu.:1.0000  \r\n",
        " Max.   : 3.570   Max.   :10.657   Max.   :1.0000   Max.   :1.0000  \r\n",
        " NA's   :174                                                        \r\n",
        "      prot            rlxall         selfe            sleep         slpnaps    \r\n",
        " Min.   :0.0000   Min.   :1380   Min.   :0.0000   Min.   : 755   Min.   :1335  \r\n",
        " 1st Qu.:0.0000   1st Qu.:3150   1st Qu.:0.0000   1st Qu.:3015   1st Qu.:3106  \r\n",
        " Median :1.0000   Median :3428   Median :0.0000   Median :3270   Median :3369  \r\n",
        " Mean   :0.6629   Mean   :3438   Mean   :0.1317   Mean   :3266   Mean   :3383  \r\n",
        " 3rd Qu.:1.0000   3rd Qu.:3720   3rd Qu.:0.0000   3rd Qu.:3532   3rd Qu.:3655  \r\n",
        " Max.   :1.0000   Max.   :6110   Max.   :1.0000   Max.   :4695   Max.   :6110  \r\n",
        "                                                                               \r\n",
        "     south           spsepay         spwrk75           totwrk    \r\n",
        " Min.   :0.0000   Min.   :    0   Min.   :0.0000   Min.   :   0  \r\n",
        " 1st Qu.:0.0000   1st Qu.:    0   1st Qu.:0.0000   1st Qu.:1554  \r\n",
        " Median :0.0000   Median :    0   Median :0.0000   Median :2288  \r\n",
        " Mean   :0.1841   Mean   : 5144   Mean   :0.4802   Mean   :2123  \r\n",
        " 3rd Qu.:0.0000   3rd Qu.: 8900   3rd Qu.:1.0000   3rd Qu.:2692  \r\n",
        " Max.   :1.0000   Max.   :75000   Max.   :1.0000   Max.   :6415  \r\n",
        "                                                                 \r\n",
        "     union           worknrm        workscnd           exper      \r\n",
        " Min.   :0.0000   Min.   :   0   Min.   :   0.00   Min.   : 0.00  \r\n",
        " 1st Qu.:0.0000   1st Qu.:1538   1st Qu.:   0.00   1st Qu.:10.00  \r\n",
        " Median :0.0000   Median :2275   Median :   0.00   Median :17.00  \r\n",
        " Mean   :0.2181   Mean   :2093   Mean   :  29.67   Mean   :20.04  \r\n",
        " 3rd Qu.:0.0000   3rd Qu.:2636   3rd Qu.:   0.00   3rd Qu.:30.00  \r\n",
        " Max.   :1.0000   Max.   :6415   Max.   :1337.00   Max.   :55.00  \r\n",
        "                                                                  \r\n",
        "     yngkid          yrsmarr          hrwage           agesq     \r\n",
        " Min.   :0.0000   Min.   : 0.00   Min.   : 0.350   Min.   : 529  \r\n",
        " 1st Qu.:0.0000   1st Qu.: 0.00   1st Qu.: 2.890   1st Qu.: 841  \r\n",
        " Median :0.0000   Median : 9.00   Median : 4.380   Median :1296  \r\n",
        " Mean   :0.1289   Mean   :11.77   Mean   : 5.083   Mean   :1635  \r\n",
        " 3rd Qu.:0.0000   3rd Qu.:20.00   3rd Qu.: 6.210   3rd Qu.:2304  \r\n",
        " Max.   :1.0000   Max.   :43.00   Max.   :35.510   Max.   :4225  \r\n",
        "                                  NA's   :174                    \r\n"
       ]
      },
      {
       "output_type": "stream",
       "stream": "stdout",
       "text": [
        "\r\n",
        "Call:\r\n",
        "lm(formula = sleep ~ totwrk, data = data)\r\n",
        "\r\n",
        "Residuals:\r\n",
        "     Min       1Q   Median       3Q      Max \r\n",
        "-2429.94  -240.25     4.91   250.53  1339.72 \r\n",
        "\r\n",
        "Coefficients:\r\n",
        "              Estimate Std. Error t value Pr(>|t|)    \r\n",
        "(Intercept) 3586.37695   38.91243  92.165   <2e-16 ***\r\n",
        "totwrk        -0.15075    0.01674  -9.005   <2e-16 ***\r\n",
        "---\r\n",
        "Signif. codes:  0 \u2018***\u2019 0.001 \u2018**\u2019 0.01 \u2018*\u2019 0.05 \u2018.\u2019 0.1 \u2018 \u2019 1\r\n",
        "\r\n",
        "Residual standard error: 421.1 on 704 degrees of freedom\r\n",
        "Multiple R-squared:  0.1033,\tAdjusted R-squared:  0.102 \r\n",
        "F-statistic: 81.09 on 1 and 704 DF,  p-value: < 2.2e-16\r\n",
        "\r\n",
        "Number of obs: 706\r\n"
       ]
      }
     ],
     "prompt_number": 10
    },
    {
     "cell_type": "code",
     "collapsed": false,
     "input": [
      "%%writefile cx-2.4.r\n",
      "data = read.csv(\"../datasets/raw/WAGE2.csv\")\n",
      "summary(data)\n",
      "sd(data$IQ)\n",
      "\n",
      "lmobj = lm(wage~IQ, data=data)\n",
      "summary(lmobj)\n",
      "\n",
      "lmobj = lm(log(wage)~IQ, data=data)\n",
      "summary(lmobj)\n"
     ],
     "language": "python",
     "metadata": {},
     "outputs": [
      {
       "output_type": "stream",
       "stream": "stdout",
       "text": [
        "Overwriting cx-2.4.r\n"
       ]
      }
     ],
     "prompt_number": 11
    },
    {
     "cell_type": "code",
     "collapsed": false,
     "input": [
      "!Rscript cx-2.4.r"
     ],
     "language": "python",
     "metadata": {},
     "outputs": [
      {
       "output_type": "stream",
       "stream": "stdout",
       "text": [
        "      wage            hours             IQ             KWW       \r\n",
        " Min.   : 115.0   Min.   :20.00   Min.   : 50.0   Min.   :12.00  \r\n",
        " 1st Qu.: 669.0   1st Qu.:40.00   1st Qu.: 92.0   1st Qu.:31.00  \r\n",
        " Median : 905.0   Median :40.00   Median :102.0   Median :37.00  \r\n",
        " Mean   : 957.9   Mean   :43.93   Mean   :101.3   Mean   :35.74  \r\n",
        " 3rd Qu.:1160.0   3rd Qu.:48.00   3rd Qu.:112.0   3rd Qu.:41.00  \r\n",
        " Max.   :3078.0   Max.   :80.00   Max.   :145.0   Max.   :56.00  \r\n",
        "                                                                 \r\n",
        "      educ           exper           tenure            age       \r\n",
        " Min.   : 9.00   Min.   : 1.00   Min.   : 0.000   Min.   :28.00  \r\n",
        " 1st Qu.:12.00   1st Qu.: 8.00   1st Qu.: 3.000   1st Qu.:30.00  \r\n",
        " Median :12.00   Median :11.00   Median : 7.000   Median :33.00  \r\n",
        " Mean   :13.47   Mean   :11.56   Mean   : 7.234   Mean   :33.08  \r\n",
        " 3rd Qu.:16.00   3rd Qu.:15.00   3rd Qu.:11.000   3rd Qu.:36.00  \r\n",
        " Max.   :18.00   Max.   :23.00   Max.   :22.000   Max.   :38.00  \r\n",
        "                                                                 \r\n",
        "    married          black            south            urban       \r\n",
        " Min.   :0.000   Min.   :0.0000   Min.   :0.0000   Min.   :0.0000  \r\n",
        " 1st Qu.:1.000   1st Qu.:0.0000   1st Qu.:0.0000   1st Qu.:0.0000  \r\n",
        " Median :1.000   Median :0.0000   Median :0.0000   Median :1.0000  \r\n",
        " Mean   :0.893   Mean   :0.1283   Mean   :0.3412   Mean   :0.7176  \r\n",
        " 3rd Qu.:1.000   3rd Qu.:0.0000   3rd Qu.:1.0000   3rd Qu.:1.0000  \r\n",
        " Max.   :1.000   Max.   :1.0000   Max.   :1.0000   Max.   :1.0000  \r\n",
        "                                                                   \r\n",
        "      sibs           brthord           meduc           feduc      \r\n",
        " Min.   : 0.000   Min.   : 1.000   Min.   : 0.00   Min.   : 0.00  \r\n",
        " 1st Qu.: 1.000   1st Qu.: 1.000   1st Qu.: 8.00   1st Qu.: 8.00  \r\n",
        " Median : 2.000   Median : 2.000   Median :12.00   Median :10.00  \r\n",
        " Mean   : 2.941   Mean   : 2.277   Mean   :10.68   Mean   :10.22  \r\n",
        " 3rd Qu.: 4.000   3rd Qu.: 3.000   3rd Qu.:12.00   3rd Qu.:12.00  \r\n",
        " Max.   :14.000   Max.   :10.000   Max.   :18.00   Max.   :18.00  \r\n",
        "                  NA's   :83       NA's   :78      NA's   :194    \r\n",
        "     lwage      \r\n",
        " Min.   :4.745  \r\n",
        " 1st Qu.:6.506  \r\n",
        " Median :6.808  \r\n",
        " Mean   :6.779  \r\n",
        " 3rd Qu.:7.056  \r\n",
        " Max.   :8.032  \r\n",
        "                \r\n",
        "[1] 15.05264\r\n",
        "\r\n",
        "Call:\r\n",
        "lm(formula = wage ~ IQ, data = data)\r\n",
        "\r\n",
        "Residuals:\r\n",
        "   Min     1Q Median     3Q    Max \r\n",
        "-898.7 -256.5  -47.3  201.1 2072.6 \r\n",
        "\r\n",
        "Coefficients:\r\n"
       ]
      },
      {
       "output_type": "stream",
       "stream": "stdout",
       "text": [
        "            Estimate Std. Error t value Pr(>|t|)    \r\n",
        "(Intercept) 116.9916    85.6415   1.366    0.172    \r\n",
        "IQ            8.3031     0.8364   9.927   <2e-16 ***\r\n",
        "---\r\n",
        "Signif. codes:  0 \u2018***\u2019 0.001 \u2018**\u2019 0.01 \u2018*\u2019 0.05 \u2018.\u2019 0.1 \u2018 \u2019 1\r\n",
        "\r\n",
        "Residual standard error: 384.8 on 933 degrees of freedom\r\n",
        "Multiple R-squared:  0.09554,\tAdjusted R-squared:  0.09457 \r\n",
        "F-statistic: 98.55 on 1 and 933 DF,  p-value: < 2.2e-16\r\n",
        "\r\n",
        "\r\n",
        "Call:\r\n",
        "lm(formula = log(wage) ~ IQ, data = data)\r\n",
        "\r\n",
        "Residuals:\r\n",
        "     Min       1Q   Median       3Q      Max \r\n",
        "-2.09324 -0.25547  0.02261  0.27544  1.21486 \r\n",
        "\r\n",
        "Coefficients:\r\n",
        "             Estimate Std. Error t value Pr(>|t|)    \r\n",
        "(Intercept) 5.8869943  0.0890206   66.13   <2e-16 ***\r\n",
        "IQ          0.0088072  0.0008694   10.13   <2e-16 ***\r\n",
        "---\r\n",
        "Signif. codes:  0 \u2018***\u2019 0.001 \u2018**\u2019 0.01 \u2018*\u2019 0.05 \u2018.\u2019 0.1 \u2018 \u2019 1\r\n",
        "\r\n",
        "Residual standard error: 0.3999 on 933 degrees of freedom\r\n",
        "Multiple R-squared:  0.09909,\tAdjusted R-squared:  0.09813 \r\n",
        "F-statistic: 102.6 on 1 and 933 DF,  p-value: < 2.2e-16\r\n",
        "\r\n"
       ]
      }
     ],
     "prompt_number": 12
    },
    {
     "cell_type": "code",
     "collapsed": false,
     "input": [
      "%%writefile cx-2.5.r\n",
      "data = read.csv(\"../datasets/raw/RDCHEM.csv\")\n",
      "summary(data)\n",
      "\n",
      "summary(lm(log(rd)~log(sales), data=data))\n"
     ],
     "language": "python",
     "metadata": {},
     "outputs": [
      {
       "output_type": "stream",
       "stream": "stdout",
       "text": [
        "Overwriting cx-2.5.r\n"
       ]
      }
     ],
     "prompt_number": 13
    },
    {
     "cell_type": "code",
     "collapsed": false,
     "input": [
      "!Rscript cx-2.5.r"
     ],
     "language": "python",
     "metadata": {},
     "outputs": [
      {
       "output_type": "stream",
       "stream": "stdout",
       "text": [
        "       rd              sales            profits           rdintens    \r\n",
        " Min.   :   1.70   Min.   :   42.0   Min.   :  -4.30   Min.   :1.030  \r\n",
        " 1st Qu.:  10.85   1st Qu.:  507.8   1st Qu.:  42.12   1st Qu.:2.027  \r\n",
        " Median :  42.60   Median : 1332.5   Median : 111.70   Median :2.640  \r\n",
        " Mean   : 153.68   Mean   : 3797.0   Mean   : 370.50   Mean   :3.266  \r\n",
        " 3rd Qu.:  78.85   3rd Qu.: 2856.6   3rd Qu.: 295.68   3rd Qu.:3.967  \r\n",
        " Max.   :1428.00   Max.   :39709.0   Max.   :4154.00   Max.   :9.420  \r\n",
        "    profmarg         salessq              lsales            lrd        \r\n",
        " Min.   :-3.220   Min.   :1.764e+03   Min.   : 3.738   Min.   :0.5306  \r\n",
        " 1st Qu.: 4.075   1st Qu.:2.579e+05   1st Qu.: 6.230   1st Qu.:2.3839  \r\n",
        " Median : 8.760   Median :1.790e+06   Median : 7.191   Median :3.7498  \r\n",
        " Mean   : 9.822   Mean   :7.030e+07   Mean   : 7.165   Mean   :3.6028  \r\n",
        " 3rd Qu.:16.455   3rd Qu.:8.162e+06   3rd Qu.: 7.957   3rd Qu.:4.3631  \r\n",
        " Max.   :27.190   Max.   :1.580e+09   Max.   :10.589   Max.   :7.2640  \r\n",
        "\r\n",
        "Call:\r\n",
        "lm(formula = log(rd) ~ log(sales), data = data)\r\n",
        "\r\n",
        "Residuals:\r\n",
        "     Min       1Q   Median       3Q      Max \r\n",
        "-0.90406 -0.40086 -0.02178  0.40562  1.10438 \r\n",
        "\r\n",
        "Coefficients:\r\n"
       ]
      },
      {
       "output_type": "stream",
       "stream": "stdout",
       "text": [
        "            Estimate Std. Error t value Pr(>|t|)    \r\n",
        "(Intercept) -4.10472    0.45277  -9.066 4.27e-10 ***\r\n",
        "log(sales)   1.07573    0.06183  17.399  < 2e-16 ***\r\n",
        "---\r\n",
        "Signif. codes:  0 \u2018***\u2019 0.001 \u2018**\u2019 0.01 \u2018*\u2019 0.05 \u2018.\u2019 0.1 \u2018 \u2019 1\r\n",
        "\r\n",
        "Residual standard error: 0.5294 on 30 degrees of freedom\r\n",
        "Multiple R-squared:  0.9098,\tAdjusted R-squared:  0.9068 \r\n",
        "F-statistic: 302.7 on 1 and 30 DF,  p-value: < 2.2e-16\r\n",
        "\r\n"
       ]
      }
     ],
     "prompt_number": 14
    },
    {
     "cell_type": "code",
     "collapsed": false,
     "input": [
      "%%writefile cx-2.6.r\n",
      "data = read.csv(\"../datasets/raw/MEAP93.csv\")\n",
      "summary(data)\n",
      "\n",
      "lmobj = lm(math10~log(expend), data=data)\n",
      "summary(lmobj)\n",
      "\n",
      "#find x when y = 100\n",
      "exp((100-lmobj$coefficient['(Intercept)'])/lmobj$coefficient['log(expend)'])"
     ],
     "language": "python",
     "metadata": {},
     "outputs": [
      {
       "output_type": "stream",
       "stream": "stdout",
       "text": [
        "Overwriting cx-2.6.r\n"
       ]
      }
     ],
     "prompt_number": 15
    },
    {
     "cell_type": "code",
     "collapsed": false,
     "input": [
      "!Rscript cx-2.6.r"
     ],
     "language": "python",
     "metadata": {},
     "outputs": [
      {
       "output_type": "stream",
       "stream": "stdout",
       "text": [
        "    lnchprg          enroll          staff            expend    \r\n",
        " Min.   : 1.40   Min.   :  212   Min.   : 65.90   Min.   :3332  \r\n",
        " 1st Qu.:14.62   1st Qu.: 1038   1st Qu.: 91.45   1st Qu.:3821  \r\n",
        " Median :23.85   Median : 1840   Median : 99.00   Median :4145  \r\n",
        " Mean   :25.20   Mean   : 2664   Mean   :100.64   Mean   :4377  \r\n",
        " 3rd Qu.:33.83   3rd Qu.: 3085   3rd Qu.:108.03   3rd Qu.:4659  \r\n",
        " Max.   :79.50   Max.   :16793   Max.   :166.60   Max.   :7419  \r\n",
        "     salary         benefits        droprate         gradrate     \r\n",
        " Min.   :19764   Min.   :    0   Min.   : 0.000   Min.   : 23.50  \r\n",
        " 1st Qu.:28186   1st Qu.: 5536   1st Qu.: 1.900   1st Qu.: 77.00  \r\n",
        " Median :31266   Median : 6304   Median : 3.700   Median : 86.30  \r\n",
        " Mean   :31775   Mean   : 6463   Mean   : 5.066   Mean   : 83.65  \r\n",
        " 3rd Qu.:34500   3rd Qu.: 7228   3rd Qu.: 6.500   3rd Qu.: 93.22  \r\n",
        " Max.   :52812   Max.   :11618   Max.   :61.900   Max.   :127.10  \r\n",
        "     math10          sci11          totcomp         ltotcomp    \r\n",
        " Min.   : 1.90   Min.   : 7.20   Min.   :24498   Min.   :10.11  \r\n",
        " 1st Qu.:16.62   1st Qu.:41.30   1st Qu.:34032   1st Qu.:10.44  \r\n",
        " Median :23.40   Median :49.10   Median :37444   Median :10.53  \r\n",
        " Mean   :24.11   Mean   :49.18   Mean   :38238   Mean   :10.54  \r\n",
        " 3rd Qu.:30.05   3rd Qu.:57.15   3rd Qu.:41637   3rd Qu.:10.64  \r\n",
        " Max.   :66.70   Max.   :85.70   Max.   :63518   Max.   :11.06  \r\n",
        "    lexpend         lenroll          lstaff          bensal      \r\n",
        " Min.   :8.111   Min.   :5.357   Min.   :4.188   Min.   :0.0000  \r\n",
        " 1st Qu.:8.248   1st Qu.:6.945   1st Qu.:4.516   1st Qu.:0.1880  \r\n",
        " Median :8.330   Median :7.518   Median :4.595   Median :0.2024  \r\n",
        " Mean   :8.370   Mean   :7.510   Mean   :4.603   Mean   :0.2045  \r\n",
        " 3rd Qu.:8.447   3rd Qu.:8.034   3rd Qu.:4.682   3rd Qu.:0.2203  \r\n",
        " Max.   :8.912   Max.   :9.729   Max.   :5.116   Max.   :0.4500  \r\n",
        "    lsalary      \r\n",
        " Min.   : 9.892  \r\n",
        " 1st Qu.:10.247  \r\n",
        " Median :10.350  \r\n",
        " Mean   :10.354  \r\n",
        " 3rd Qu.:10.449  \r\n",
        " Max.   :10.874  \r\n",
        "\r\n",
        "Call:\r\n",
        "lm(formula = math10 ~ log(expend), data = data)\r\n",
        "\r\n",
        "Residuals:\r\n",
        "    Min      1Q  Median      3Q     Max \r\n",
        "-22.343  -7.100  -0.914   6.148  39.093 \r\n",
        "\r\n",
        "Coefficients:\r\n",
        "            Estimate Std. Error t value Pr(>|t|)    \r\n",
        "(Intercept)  -69.341     26.530  -2.614 0.009290 ** \r\n",
        "log(expend)   11.164      3.169   3.523 0.000475 ***\r\n",
        "---\r\n",
        "Signif. codes:  0 \u2018***\u2019 0.001 \u2018**\u2019 0.01 \u2018*\u2019 0.05 \u2018.\u2019 0.1 \u2018 \u2019 1\r\n",
        "\r\n",
        "Residual standard error: 10.35 on 406 degrees of freedom\r\n",
        "Multiple R-squared:  0.02966,\tAdjusted R-squared:  0.02727 \r\n",
        "F-statistic: 12.41 on 1 and 406 DF,  p-value: 0.0004752\r\n",
        "\r\n",
        "(Intercept) \r\n",
        "    3866869 \r\n"
       ]
      }
     ],
     "prompt_number": 16
    },
    {
     "cell_type": "code",
     "collapsed": false,
     "input": [
      "%%writefile cx-2.7.r\n",
      "data = read.csv(\"../datasets/raw/charity.csv\")\n",
      "summary(data)\n",
      "\n",
      "nrow(data[data[,'gift']==0,])/nrow(data)\n",
      "\n",
      "lmobj = lm(gift~mailsyear, data=data)\n",
      "\n",
      "summary(lmobj$fitted.values)"
     ],
     "language": "python",
     "metadata": {},
     "outputs": [
      {
       "output_type": "stream",
       "stream": "stdout",
       "text": [
        "Overwriting cx-2.7.r\n"
       ]
      }
     ],
     "prompt_number": 17
    },
    {
     "cell_type": "code",
     "collapsed": false,
     "input": [
      "!Rscript cx-2.7.r"
     ],
     "language": "python",
     "metadata": {},
     "outputs": [
      {
       "output_type": "stream",
       "stream": "stdout",
       "text": [
        "    respond         gift            resplast        weekslast     \r\n",
        " Min.   :0.0   Min.   :  0.000   Min.   :0.0000   Min.   : 13.14  \r\n",
        " 1st Qu.:0.0   1st Qu.:  0.000   1st Qu.:0.0000   1st Qu.: 26.14  \r\n",
        " Median :0.0   Median :  0.000   Median :0.0000   Median : 51.29  \r\n",
        " Mean   :0.4   Mean   :  7.444   Mean   :0.3348   Mean   : 59.05  \r\n",
        " 3rd Qu.:1.0   3rd Qu.: 10.000   3rd Qu.:1.0000   3rd Qu.:103.86  \r\n",
        " Max.   :1.0   Max.   :250.000   Max.   :1.0000   Max.   :195.00  \r\n",
        "    propresp         mailsyear       giftlast           avggift       \r\n",
        " Min.   :0.09091   Min.   :0.25   Min.   :    1.00   Min.   :   1.00  \r\n",
        " 1st Qu.:0.28571   1st Qu.:1.75   1st Qu.:   10.00   1st Qu.:  10.00  \r\n",
        " Median :0.44444   Median :2.00   Median :   10.00   Median :  10.00  \r\n",
        " Mean   :0.48436   Mean   :2.05   Mean   :   19.75   Mean   :  18.24  \r\n",
        " 3rd Qu.:0.66667   3rd Qu.:2.50   3rd Qu.:   25.00   3rd Qu.:  23.33  \r\n",
        " Max.   :1.00000   Max.   :3.50   Max.   :10000.00   Max.   :5005.00  \r\n"
       ]
      },
      {
       "output_type": "stream",
       "stream": "stdout",
       "text": [
        "[1] 0.6000469\r\n",
        "   Min. 1st Qu.  Median    Mean 3rd Qu.    Max. \r\n",
        "  2.676   6.651   7.313   7.444   8.638  11.290 \r\n"
       ]
      }
     ],
     "prompt_number": 18
    },
    {
     "cell_type": "code",
     "collapsed": true,
     "input": [
      "from IPython.core.display import HTML\n",
      "\n",
      "styles = open(\"styles/custom.css\", \"r\").read()\n",
      "HTML(styles)\n"
     ],
     "language": "python",
     "metadata": {},
     "outputs": [
      {
       "html": [
        "/* This style is mostly copied with minor changes and some \n",
        " * simplicities from an impresive repo of @CamDavidsonPilon:\n",
        " * \n",
        " * https://github.com/CamDavidsonPilon/Probabilistic-Programming-and-Bayesian-Methods-for-Hackers\n",
        " *\n",
        " */\n",
        "\n",
        "<style>\n",
        "    div.cell{\n",
        "        width: 850px;\n",
        "        margin-left: 14%;\n",
        "        margin-right: auto;\n",
        "    }\n",
        "    div.text_cell_render{\n",
        "        line-height: 120%;\n",
        "        font-size: 120%;\n",
        "        width: 850px;\n",
        "        margin-left: auto;\n",
        "        margin-right: auto;\n",
        "    }\n",
        "    h2 {\n",
        "        border-bottom-color: #ddd;\n",
        "        border-width: 1px;\n",
        "        border-bottom-style:solid;\n",
        "    }\n",
        "</style>\n",
        "\n",
        "<script>\n",
        "    MathJax.Hub.Config({\n",
        "        TeX: {\n",
        "            extensions: [\"AMSmath.js\"],\n",
        "            equationNumbers: { autoNumber: \"AMS\" }\n",
        "        },\n",
        "        displayAlign: 'center'\n",
        "    });\n",
        "</script>\n"
       ],
       "metadata": {},
       "output_type": "pyout",
       "prompt_number": 19,
       "text": [
        "<IPython.core.display.HTML at 0x7fb3f419fe90>"
       ]
      }
     ],
     "prompt_number": 19
    },
    {
     "cell_type": "code",
     "collapsed": false,
     "input": [],
     "language": "python",
     "metadata": {},
     "outputs": [],
     "prompt_number": 19
    }
   ],
   "metadata": {}
  }
 ]
}