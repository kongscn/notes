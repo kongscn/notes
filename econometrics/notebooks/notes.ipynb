{
 "metadata": {
  "name": ""
 },
 "nbformat": 3,
 "nbformat_minor": 0,
 "worksheets": [
  {
   "cells": [
    {
     "cell_type": "markdown",
     "metadata": {},
     "source": [
      "MathJax quick ref:\n",
      "\n",
      "http://meta.math.stackexchange.com/questions/5020/mathjax-basic-tutorial-and-quick-reference"
     ]
    },
    {
     "cell_type": "markdown",
     "metadata": {},
     "source": [
      "###Timing and performance in R:\n",
      "http://stackoverflow.com/questions/7546946/get-execution-time-in-milliseconds-in-r\n",
      "\n",
      "###R for MATLAB users\n",
      "http://mathesaurus.sourceforge.net/octave-r.html\n",
      "\n",
      "###Vector mean variance etc.\n",
      "http://stattrek.com/matrix-algebra/vector-mean.aspx\n",
      "\n",
      "###crossprod and %o%\n",
      "\n",
      "###ploy(x, 2, raw=T)"
     ]
    },
    {
     "cell_type": "markdown",
     "metadata": {},
     "source": [
      "###Book Companion: data sets and key terms:\n",
      "[Introductory Econometrics: A Modern Approach, 4th Edition](http://www.cengage.com/cgi-wadsworth/course_products_wp.pl?fid=M20b&product_isbn_issn=9780324581621&discipline_number=413)\n",
      "\n",
      "[Introductory Econometrics: A Modern Approach, 5th Edition](http://www.cengage.com/cgi-wadsworth/course_products_wp.pl?fid=M20b&product_isbn_issn=9781111531041&discipline_number=413)\n"
     ]
    },
    {
     "cell_type": "code",
     "collapsed": false,
     "input": [],
     "language": "python",
     "metadata": {},
     "outputs": []
    }
   ],
   "metadata": {}
  }
 ]
}