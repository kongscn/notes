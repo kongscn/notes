{
 "metadata": {
  "name": ""
 },
 "nbformat": 3,
 "nbformat_minor": 0,
 "worksheets": [
  {
   "cells": [
    {
     "cell_type": "heading",
     "level": 1,
     "metadata": {},
     "source": [
      "Chapter 3: Multiple Regression Analysis: Estimation"
     ]
    },
    {
     "cell_type": "heading",
     "level": 2,
     "metadata": {},
     "source": [
      "Mechanics and Interpretation of OLS"
     ]
    },
    {
     "cell_type": "heading",
     "level": 3,
     "metadata": {},
     "source": [
      "A \"Partialling Out\" Interpretation of Multiple Regression"
     ]
    },
    {
     "cell_type": "markdown",
     "metadata": {},
     "source": [
      "\\begin{equation}\n",
      "\\hat{\\beta}_1 = \\frac{\\displaystyle\\sum_{i=1}^n \\hat{r}_{i1} y_i}{\\displaystyle\\sum_{i=1}^n \\hat{r}_{i1}^2}\n",
      "\\end{equation}"
     ]
    },
    {
     "cell_type": "markdown",
     "metadata": {},
     "source": [
      "Given\n",
      "\\begin{eqnarray}\n",
      "\\hat{y} &=& \\hat{\\beta}_0 + \\hat{\\beta}_1 x_1 + \\hat{\\beta}_2 x_2 \\\\\n",
      "\\tilde{y} &=& \\tilde{\\beta}_0 + \\tilde{\\beta}_1 x_1\n",
      "\\end{eqnarray}\n",
      "we have:\n",
      "\n",
      "\\begin{equation}\n",
      "\\tilde{\\beta}_1 = \\hat{\\beta}_1 + \\tilde{\\delta} \\hat{\\beta}_2\n",
      "\\end{equation}\n",
      "\n",
      "where\n",
      "\n",
      "$$\\tilde{x}_2 = \\tilde{\\delta}_0 + \\tilde{\\delta}_1 x_1$$"
     ]
    },
    {
     "cell_type": "heading",
     "level": 2,
     "metadata": {},
     "source": [
      "Matrix Form"
     ]
    },
    {
     "cell_type": "markdown",
     "metadata": {},
     "source": [
      "\\begin{equation*}\n",
      "\\rm\n",
      "\\underset{n \\times (k+1)}{\\rm X}\n",
      "    \\equiv \\begin{bmatrix}  \\bf x_1 \\\\\\bf x_2 \\\\ \\vdots \\\\\\bf x_n \\end{bmatrix}\n",
      "    =\\begin{bmatrix}\n",
      "        1 & x_{11} & x_{12} & \\ldots & x_{1k} \\\\\n",
      "        1 & x_{21} & x_{22} & \\ldots & x_{2k} \\\\\n",
      "        \\vdots & \\vdots & \\vdots & \\ddots & \\vdots \\\\\n",
      "        1 & x_{n1} & x_{n2} & \\ldots & x_{nk}\n",
      "     \\end{bmatrix}\n",
      "\\end{equation*}"
     ]
    },
    {
     "cell_type": "markdown",
     "metadata": {},
     "source": [
      "\\begin{equation}\n",
      "\\bf y = X \\boldsymbol \\beta + u \n",
      "\\end{equation}"
     ]
    },
    {
     "cell_type": "markdown",
     "metadata": {},
     "source": [
      "$${\\rm SSR}({\\bf b}) \\equiv \\sum_{t=1}^{n} (y_t - {\\bf x}_t {\\bf b})^2$$"
     ]
    },
    {
     "cell_type": "markdown",
     "metadata": {},
     "source": [
      "$${\\bf X}'({\\bf y-X \\boldsymbol {\\hat\\beta}})= {\\bf 0} = \\bf X' \\hat{u}$$"
     ]
    },
    {
     "cell_type": "markdown",
     "metadata": {},
     "source": [
      "\\begin{equation}\n",
      "    \\boldsymbol{\\hat\\beta} = ({\\bf X'X})^{-1} \\bf X'y\n",
      "\\end{equation}"
     ]
    },
    {
     "cell_type": "markdown",
     "metadata": {},
     "source": [
      "\\begin{equation}\n",
      "{\\bf \\hat{u}}={\\bf y} - {\\bf\\hat{y}}={\\bf y} - {\\bf X \\boldsymbol{\\hat\\beta}}\n",
      "\\end{equation}"
     ]
    },
    {
     "cell_type": "markdown",
     "metadata": {},
     "source": [
      "\\begin{equation}\n",
      "\\text{SSR} = \\sum_{t=1}^{n} \\hat{u}_t^2 = \\bf \\hat{u}'\\hat{u}\n",
      "\\end{equation}"
     ]
    },
    {
     "cell_type": "markdown",
     "metadata": {},
     "source": [
      "\\begin{equation}\n",
      "\\hat\\sigma^2 = {\\bf \\hat{u}'\\hat{u}}/(n-k-1)\n",
      "\\end{equation}"
     ]
    },
    {
     "cell_type": "markdown",
     "metadata": {},
     "source": [
      "\\begin{equation}\n",
      "\\text{Var}({\\boldsymbol{\\hat\\beta}}|{\\bf X}) = \\sigma^2({\\bf X'X})^{-1}\n",
      "\\end{equation}"
     ]
    },
    {
     "cell_type": "heading",
     "level": 2,
     "metadata": {},
     "source": [
      "Examples"
     ]
    },
    {
     "cell_type": "heading",
     "level": 3,
     "metadata": {},
     "source": [
      "eg 3.3"
     ]
    },
    {
     "cell_type": "markdown",
     "metadata": {},
     "source": [
      "*on page 80*\n",
      "\n",
      "**Answer**:\n",
      "\n",
      "$$\\widehat{\\text{narr86}} = 0.707 - 0.151\\ \\text{pcnv} + 0.0074\\ \\text{avgsen} - 0.037\\ \\text{ptime86} - 0.103\\ \\text{qemp86}$$"
     ]
    },
    {
     "cell_type": "code",
     "collapsed": false,
     "input": [
      "%%writefile eg-3.5.r\n",
      "# R code for example 2.3 on page 33\n",
      "\n",
      "source('base/rhelper.r')\n",
      "\n",
      "data = read.csv(\"../datasets/raw/CRIME1.csv\")\n",
      "lrm = lm(narr86~pcnv+avgsen+ptime86+qemp86, data=data)\n",
      "summ = summary(lrm)\n",
      "summ\n",
      "\n",
      "\n",
      "# verify coefficients\n",
      "assert.equal(lrm$coefficients['(Intercept)'], 0.707, precision=3)\n",
      "assert.equal(lrm$coefficients['pcnv'], -0.151, precision=3)\n",
      "assert.equal(lrm$coefficients['avgsen'], 0.0074, precision=4)\n",
      "assert.equal(lrm$coefficients['ptime86'], -0.037, precision=3)\n",
      "assert.equal(lrm$coefficients['qemp86'], -0.103, precision=3)\n",
      "\n",
      "\n",
      "# under the hood\n",
      "\n",
      "# deriving estomators\n",
      "slr_mrate = lm(pcnv~avgsen+ptime86+qemp86, data=data)\n",
      "residual_1 = slr_mrate$residuals\n",
      "beta_pcnv = sum(residual_1 * data$narr86)/sum(residual_1**2)\n",
      "assert.equal(beta_pcnv, lrm$coefficients['pcnv'])\n",
      "\n",
      "\n",
      "# comparison of simple and multiple\n",
      "# narr86~pcnv+avgsen+ptime86+qemp86   V.S.\n",
      "# narr86~pcnv+avgsen\n",
      "rlm = lm(narr86~pcnv+avgsen, data=data)\n",
      "beta_1_tilde = rlm$coefficients['pcnv']\n",
      "beta_2_tilde = rlm$coefficients['avgsen']\n",
      "\n",
      "rlm_3 = lm(ptime86~pcnv+avgsen, data=data)\n",
      "rlm_4 = lm(qemp86~pcnv+avgsen, data=data)\n",
      "\n",
      "delta_31 = rlm_3$coefficients['pcnv']\n",
      "delta_32 = rlm_3$coefficients['avgsen']\n",
      "\n",
      "delta_41 = rlm_4$coefficients['pcnv']\n",
      "delta_42 = rlm_4$coefficients['avgsen']\n",
      "\n",
      "beta_1_sum = lrm$coefficients['pcnv']\n",
      "beta_1_sum = beta_1_sum + delta_31 * lrm$coefficients['ptime86']\n",
      "beta_1_sum = beta_1_sum + delta_41 * lrm$coefficients['qemp86']\n",
      "\n",
      "beta_2_sum = lrm$coefficients['avgsen']\n",
      "beta_2_sum = beta_2_sum + delta_32 * lrm$coefficients['ptime86']\n",
      "beta_2_sum = beta_2_sum + delta_42 * lrm$coefficients['qemp86']\n",
      "\n",
      "assert.equal(beta_1_tilde, beta_1_sum)\n",
      "assert.equal(beta_2_tilde, beta_2_sum)\n",
      "\n",
      "\n",
      "# matrix form\n",
      "# deriving estimators\n",
      "\n",
      "X = as.matrix(cbind(rep(1,nrow(data)), data$pcnv, data$avgsen, data$ptime86, data$qemp86))\n",
      "Y = data$narr86\n",
      "\n",
      "# Estimate\n",
      "Estimates=solve(t(X) %*% X) %*% t(X) %*% Y\n",
      "assert.equal(Estimates, summ$coefficients[, 'Estimate'], precision=10)\n",
      "\n",
      "# Std. Error\n",
      "Residuals = Y - X %*% Estimates\n",
      "Sigma2 = t(Residuals) %*% Residuals / (nrow(data) - ncol(X))\n",
      "Stds = sqrt(diag(Sigma2[1,1] * solve(t(X) %*% X)))\n",
      "assert.equal(Stds, summ$coefficients[, 'Std. Error'], precision=10)\n",
      "\n",
      "# t value\n",
      "tStatics = Estimates / Stds\n",
      "assert.equal(tStatics, summ$coefficients[, 't value'], precision=10)\n",
      "\n",
      "# p-value\n",
      "pVales = 2*pt(abs(tStatics), (nrow(data) - ncol(X)), lower.tail=FALSE)\n",
      "assert.equal(pVales, summ$coefficients[, 'Pr(>|t|)'], precision=10)\n"
     ],
     "language": "python",
     "metadata": {},
     "outputs": [
      {
       "output_type": "stream",
       "stream": "stdout",
       "text": [
        "Overwriting eg-3.5.r\n"
       ]
      }
     ],
     "prompt_number": 1
    },
    {
     "cell_type": "code",
     "collapsed": false,
     "input": [
      "!Rscript --vanilla eg-3.5.r"
     ],
     "language": "python",
     "metadata": {},
     "outputs": [
      {
       "output_type": "stream",
       "stream": "stdout",
       "text": [
        "\r\n",
        "Call:\r\n",
        "lm(formula = narr86 ~ pcnv + avgsen + ptime86 + qemp86, data = data)\r\n",
        "\r\n",
        "Residuals:\r\n",
        "    Min      1Q  Median      3Q     Max \r\n",
        "-0.9330 -0.4247 -0.2934  0.3506 11.4403 \r\n",
        "\r\n",
        "Coefficients:\r\n"
       ]
      },
      {
       "output_type": "stream",
       "stream": "stdout",
       "text": [
        "             Estimate Std. Error t value Pr(>|t|)    \r\n",
        "(Intercept)  0.706756   0.033151  21.319  < 2e-16 ***\r\n",
        "pcnv        -0.150832   0.040858  -3.692 0.000227 ***\r\n",
        "avgsen       0.007443   0.004734   1.572 0.115993    \r\n",
        "ptime86     -0.037391   0.008794  -4.252 2.19e-05 ***\r\n",
        "qemp86      -0.103341   0.010396  -9.940  < 2e-16 ***\r\n",
        "---\r\n",
        "Signif. codes:  0 \u2018***\u2019 0.001 \u2018**\u2019 0.01 \u2018*\u2019 0.05 \u2018.\u2019 0.1 \u2018 \u2019 1\r\n",
        "\r\n",
        "Residual standard error: 0.8414 on 2720 degrees of freedom\r\n",
        "Multiple R-squared:  0.04219,\tAdjusted R-squared:  0.04079 \r\n",
        "F-statistic: 29.96 on 4 and 2720 DF,  p-value: < 2.2e-16\r\n",
        "\r\n"
       ]
      }
     ],
     "prompt_number": 2
    },
    {
     "cell_type": "heading",
     "level": 4,
     "metadata": {},
     "source": [
      "Stata"
     ]
    },
    {
     "cell_type": "code",
     "collapsed": false,
     "input": [
      "%%writefile eg-3.5.do\n",
      "* stata do script for example 3.5 on page 89\n",
      "insheet using \"../datasets/raw/CRIME1.csv\", comma clear\n",
      "regress narr86 avgsen pcnv ptime86 qemp86\n"
     ],
     "language": "python",
     "metadata": {},
     "outputs": [
      {
       "output_type": "stream",
       "stream": "stdout",
       "text": [
        "Overwriting eg-3.5.do\n"
       ]
      }
     ],
     "prompt_number": 3
    },
    {
     "cell_type": "code",
     "collapsed": false,
     "input": [
      "!stata -q < eg-3.5.do"
     ],
     "language": "python",
     "metadata": {},
     "outputs": [
      {
       "output_type": "stream",
       "stream": "stdout",
       "text": [
        "\r\n",
        ". * stata do script for example 3.5 on page 89\r\n",
        "\r\n",
        ". insheet using \"../datasets/raw/CRIME1.csv\", comma clear\r\n"
       ]
      },
      {
       "output_type": "stream",
       "stream": "stdout",
       "text": [
        "(16 vars, 2725 obs)\r\n",
        "\r\n",
        ". regress narr86 avgsen pcnv ptime86 qemp86"
       ]
      }
     ],
     "prompt_number": 4
    },
    {
     "cell_type": "heading",
     "level": 2,
     "metadata": {},
     "source": [
      "Computer Exercises"
     ]
    },
    {
     "cell_type": "code",
     "collapsed": false,
     "input": [
      "%%writefile cx-3.1.r\n",
      "data = read.csv(\"../datasets/raw/BWGHT.csv\")\n",
      "cor(data$cigs, data$faminc)\n",
      "\n",
      "lmobj = lm(bwght~cigs+faminc, data=data)\n",
      "summ = summary(lmobj)\n",
      "summ\n",
      "\n",
      "lmobj = lm(bwght~cigs, data=data)\n",
      "summary(lmobj)\n"
     ],
     "language": "python",
     "metadata": {},
     "outputs": [
      {
       "output_type": "stream",
       "stream": "stdout",
       "text": [
        "Overwriting cx-3.1.r\n"
       ]
      }
     ],
     "prompt_number": 5
    },
    {
     "cell_type": "code",
     "collapsed": false,
     "input": [
      "!Rscript --vanilla cx-3.1.r"
     ],
     "language": "python",
     "metadata": {},
     "outputs": [
      {
       "output_type": "stream",
       "stream": "stdout",
       "text": [
        "[1] -0.1730449\r\n"
       ]
      },
      {
       "output_type": "stream",
       "stream": "stdout",
       "text": [
        "\r\n",
        "Call:\r\n",
        "lm(formula = bwght ~ cigs + faminc, data = data)\r\n",
        "\r\n",
        "Residuals:\r\n",
        "    Min      1Q  Median      3Q     Max \r\n",
        "-96.061 -11.543   0.638  13.126 150.083 \r\n",
        "\r\n",
        "Coefficients:\r\n",
        "             Estimate Std. Error t value Pr(>|t|)    \r\n",
        "(Intercept) 116.97413    1.04898 111.512  < 2e-16 ***\r\n",
        "cigs         -0.46341    0.09158  -5.060 4.75e-07 ***\r\n",
        "faminc        0.09276    0.02919   3.178  0.00151 ** \r\n",
        "---\r\n",
        "Signif. codes:  0 \u2018***\u2019 0.001 \u2018**\u2019 0.01 \u2018*\u2019 0.05 \u2018.\u2019 0.1 \u2018 \u2019 1\r\n",
        "\r\n",
        "Residual standard error: 20.06 on 1385 degrees of freedom\r\n",
        "Multiple R-squared:  0.0298,\tAdjusted R-squared:  0.0284 \r\n",
        "F-statistic: 21.27 on 2 and 1385 DF,  p-value: 7.942e-10\r\n",
        "\r\n",
        "\r\n",
        "Call:\r\n",
        "lm(formula = bwght ~ cigs, data = data)\r\n",
        "\r\n",
        "Residuals:\r\n",
        "    Min      1Q  Median      3Q     Max \r\n",
        "-96.772 -11.772   0.297  13.228 151.228 \r\n",
        "\r\n",
        "Coefficients:\r\n",
        "             Estimate Std. Error t value Pr(>|t|)    \r\n",
        "(Intercept) 119.77190    0.57234 209.267  < 2e-16 ***\r\n",
        "cigs         -0.51377    0.09049  -5.678 1.66e-08 ***\r\n",
        "---\r\n",
        "Signif. codes:  0 \u2018***\u2019 0.001 \u2018**\u2019 0.01 \u2018*\u2019 0.05 \u2018.\u2019 0.1 \u2018 \u2019 1\r\n",
        "\r\n",
        "Residual standard error: 20.13 on 1386 degrees of freedom\r\n",
        "Multiple R-squared:  0.02273,\tAdjusted R-squared:  0.02202 \r\n",
        "F-statistic: 32.24 on 1 and 1386 DF,  p-value: 1.662e-08\r\n",
        "\r\n"
       ]
      }
     ],
     "prompt_number": 6
    },
    {
     "cell_type": "code",
     "collapsed": false,
     "input": [
      "%%writefile cx-3.2.r\n",
      "data = read.csv(\"../datasets/raw/hprice1.csv\")\n",
      "\n",
      "lmobj = lm(price~sqrft+bdrms, data=data)\n",
      "summ = summary(lmobj)\n",
      "summ\n"
     ],
     "language": "python",
     "metadata": {},
     "outputs": [
      {
       "output_type": "stream",
       "stream": "stdout",
       "text": [
        "Overwriting cx-3.2.r\n"
       ]
      }
     ],
     "prompt_number": 7
    },
    {
     "cell_type": "code",
     "collapsed": false,
     "input": [
      "!Rscript --vanilla cx-3.2.r"
     ],
     "language": "python",
     "metadata": {},
     "outputs": [
      {
       "output_type": "stream",
       "stream": "stdout",
       "text": [
        "\r\n",
        "Call:\r\n",
        "lm(formula = price ~ sqrft + bdrms, data = data)\r\n",
        "\r\n",
        "Residuals:\r\n",
        "     Min       1Q   Median       3Q      Max \r\n",
        "-127.627  -42.876   -7.051   32.589  229.003 \r\n",
        "\r\n",
        "Coefficients:\r\n",
        "             Estimate Std. Error t value Pr(>|t|)    \r\n",
        "(Intercept) -19.31500   31.04662  -0.622    0.536    \r\n",
        "sqrft         0.12844    0.01382   9.291 1.39e-14 ***\r\n",
        "bdrms        15.19819    9.48352   1.603    0.113    \r\n",
        "---\r\n",
        "Signif. codes:  0 \u2018***\u2019 0.001 \u2018**\u2019 0.01 \u2018*\u2019 0.05 \u2018.\u2019 0.1 \u2018 \u2019 1\r\n",
        "\r\n",
        "Residual standard error: 63.04 on 85 degrees of freedom\r\n",
        "Multiple R-squared:  0.6319,\tAdjusted R-squared:  0.6233 \r\n",
        "F-statistic: 72.96 on 2 and 85 DF,  p-value: < 2.2e-16\r\n",
        "\r\n"
       ]
      }
     ],
     "prompt_number": 8
    },
    {
     "cell_type": "code",
     "collapsed": false,
     "input": [
      "%%writefile cx-3.3.r\n",
      "data = read.csv(\"../datasets/raw/CEOSAL2.csv\")\n",
      "    \n",
      "lmobj = lm(log(salary)~log(sales)+log(mktval), data=data)\n",
      "summary(lmobj)\n",
      "\n",
      "lmobj2 = lm(log(salary)~log(sales)+log(mktval)+profits, data=data)\n",
      "summary(lmobj2)\n",
      "\n",
      "lmobj3 = lm(log(salary)~log(sales)+log(mktval)+profits+ceoten, data=data)\n",
      "summary(lmobj3)\n",
      "\n",
      "cor(log(data$mktval), data$profits)\n"
     ],
     "language": "python",
     "metadata": {},
     "outputs": [
      {
       "output_type": "stream",
       "stream": "stdout",
       "text": [
        "Overwriting cx-3.3.r\n"
       ]
      }
     ],
     "prompt_number": 9
    },
    {
     "cell_type": "code",
     "collapsed": false,
     "input": [
      "!Rscript --vanilla cx-3.3.r"
     ],
     "language": "python",
     "metadata": {},
     "outputs": [
      {
       "output_type": "stream",
       "stream": "stdout",
       "text": [
        "\r\n",
        "Call:\r\n",
        "lm(formula = log(salary) ~ log(sales) + log(mktval), data = data)\r\n",
        "\r\n",
        "Residuals:\r\n",
        "     Min       1Q   Median       3Q      Max \r\n",
        "-2.28060 -0.31137 -0.01269  0.30646  1.91210 \r\n",
        "\r\n",
        "Coefficients:\r\n",
        "            Estimate Std. Error t value Pr(>|t|)    \r\n",
        "(Intercept)  4.62092    0.25441  18.163  < 2e-16 ***\r\n",
        "log(sales)   0.16213    0.03967   4.087 6.67e-05 ***\r\n",
        "log(mktval)  0.10671    0.05012   2.129   0.0347 *  \r\n",
        "---\r\n",
        "Signif. codes:  0 \u2018***\u2019 0.001 \u2018**\u2019 0.01 \u2018*\u2019 0.05 \u2018.\u2019 0.1 \u2018 \u2019 1\r\n",
        "\r\n",
        "Residual standard error: 0.5103 on 174 degrees of freedom\r\n",
        "Multiple R-squared:  0.2991,\tAdjusted R-squared:  0.2911 \r\n",
        "F-statistic: 37.13 on 2 and 174 DF,  p-value: 3.727e-14\r\n",
        "\r\n"
       ]
      },
      {
       "output_type": "stream",
       "stream": "stdout",
       "text": [
        "\r\n",
        "Call:\r\n",
        "lm(formula = log(salary) ~ log(sales) + log(mktval) + profits, \r\n",
        "    data = data)\r\n",
        "\r\n",
        "Residuals:\r\n",
        "     Min       1Q   Median       3Q      Max \r\n",
        "-2.27002 -0.31026 -0.01027  0.31043  1.91489 \r\n",
        "\r\n",
        "Coefficients:\r\n",
        "             Estimate Std. Error t value Pr(>|t|)    \r\n",
        "(Intercept) 4.687e+00  3.797e-01  12.343  < 2e-16 ***\r\n",
        "log(sales)  1.614e-01  3.991e-02   4.043 7.92e-05 ***\r\n",
        "log(mktval) 9.753e-02  6.369e-02   1.531    0.128    \r\n",
        "profits     3.566e-05  1.520e-04   0.235    0.815    \r\n",
        "---\r\n",
        "Signif. codes:  0 \u2018***\u2019 0.001 \u2018**\u2019 0.01 \u2018*\u2019 0.05 \u2018.\u2019 0.1 \u2018 \u2019 1\r\n",
        "\r\n",
        "Residual standard error: 0.5117 on 173 degrees of freedom\r\n",
        "Multiple R-squared:  0.2993,\tAdjusted R-squared:  0.2872 \r\n",
        "F-statistic: 24.64 on 3 and 173 DF,  p-value: 2.53e-13\r\n",
        "\r\n",
        "\r\n",
        "Call:\r\n",
        "lm(formula = log(salary) ~ log(sales) + log(mktval) + profits + \r\n",
        "    ceoten, data = data)\r\n",
        "\r\n",
        "Residuals:\r\n",
        "     Min       1Q   Median       3Q      Max \r\n",
        "-2.48792 -0.29369  0.00827  0.29951  1.85524 \r\n",
        "\r\n",
        "Coefficients:\r\n",
        "             Estimate Std. Error t value Pr(>|t|)    \r\n",
        "(Intercept) 4.558e+00  3.803e-01  11.986  < 2e-16 ***\r\n",
        "log(sales)  1.622e-01  3.948e-02   4.109 6.14e-05 ***\r\n",
        "log(mktval) 1.018e-01  6.303e-02   1.614   0.1083    \r\n",
        "profits     2.905e-05  1.503e-04   0.193   0.8470    \r\n",
        "ceoten      1.168e-02  5.342e-03   2.187   0.0301 *  \r\n",
        "---\r\n",
        "Signif. codes:  0 \u2018***\u2019 0.001 \u2018**\u2019 0.01 \u2018*\u2019 0.05 \u2018.\u2019 0.1 \u2018 \u2019 1\r\n",
        "\r\n",
        "Residual standard error: 0.5062 on 172 degrees of freedom\r\n",
        "Multiple R-squared:  0.3183,\tAdjusted R-squared:  0.3024 \r\n",
        "F-statistic: 20.08 on 4 and 172 DF,  p-value: 1.387e-13\r\n",
        "\r\n",
        "[1] 0.7768976\r\n"
       ]
      }
     ],
     "prompt_number": 10
    },
    {
     "cell_type": "code",
     "collapsed": false,
     "input": [
      "%%writefile cx-3.4.r\n",
      "data = read.csv(\"../datasets/raw/ATTEND.csv\")\n",
      "summary(data)\n",
      "\n",
      "lmobj = lm(atndrte~priGPA+ACT, data=data)\n",
      "summary(lmobj)\n"
     ],
     "language": "python",
     "metadata": {},
     "outputs": [
      {
       "output_type": "stream",
       "stream": "stdout",
       "text": [
        "Overwriting cx-3.4.r\n"
       ]
      }
     ],
     "prompt_number": 11
    },
    {
     "cell_type": "code",
     "collapsed": false,
     "input": [
      "!Rscript --vanilla cx-3.4.r"
     ],
     "language": "python",
     "metadata": {},
     "outputs": [
      {
       "output_type": "stream",
       "stream": "stdout",
       "text": [
        "     attend         termGPA          priGPA           ACT       \r\n",
        " Min.   : 2.00   Min.   :0.000   Min.   :0.857   Min.   :13.00  \r\n",
        " 1st Qu.:24.00   1st Qu.:2.138   1st Qu.:2.190   1st Qu.:20.00  \r\n",
        " Median :28.00   Median :2.670   Median :2.560   Median :22.00  \r\n",
        " Mean   :26.15   Mean   :2.601   Mean   :2.587   Mean   :22.51  \r\n",
        " 3rd Qu.:30.00   3rd Qu.:3.120   3rd Qu.:2.942   3rd Qu.:25.00  \r\n",
        " Max.   :32.00   Max.   :4.000   Max.   :3.930   Max.   :32.00  \r\n",
        "                                                                \r\n",
        "     final          atndrte           hwrte            frosh       \r\n",
        " Min.   :10.00   Min.   :  6.25   Min.   : 12.50   Min.   :0.0000  \r\n",
        " 1st Qu.:22.00   1st Qu.: 75.00   1st Qu.: 87.50   1st Qu.:0.0000  \r\n",
        " Median :26.00   Median : 87.50   Median :100.00   Median :0.0000  \r\n",
        " Mean   :25.89   Mean   : 81.71   Mean   : 87.91   Mean   :0.2324  \r\n",
        " 3rd Qu.:29.00   3rd Qu.: 93.75   3rd Qu.:100.00   3rd Qu.:0.0000  \r\n",
        " Max.   :39.00   Max.   :100.00   Max.   :100.00   Max.   :1.0000  \r\n",
        "                                  NA's   :6                        \r\n",
        "      soph           skipped          stndfnl        \r\n",
        " Min.   :0.0000   Min.   : 0.000   Min.   :-3.30882  \r\n",
        " 1st Qu.:0.0000   1st Qu.: 2.000   1st Qu.:-0.78782  \r\n",
        " Median :1.0000   Median : 4.000   Median : 0.05252  \r\n",
        " Mean   :0.5765   Mean   : 5.853   Mean   : 0.02966  \r\n",
        " 3rd Qu.:1.0000   3rd Qu.: 8.000   3rd Qu.: 0.68277  \r\n",
        " Max.   :1.0000   Max.   :30.000   Max.   : 2.78361  \r\n",
        "                                                     \r\n",
        "\r\n",
        "Call:\r\n",
        "lm(formula = atndrte ~ priGPA + ACT, data = data)\r\n",
        "\r\n",
        "Residuals:\r\n",
        "    Min      1Q  Median      3Q     Max \r\n",
        "-65.373  -6.765   2.125   9.635  29.615 \r\n",
        "\r\n",
        "Coefficients:\r\n"
       ]
      },
      {
       "output_type": "stream",
       "stream": "stdout",
       "text": [
        "            Estimate Std. Error t value Pr(>|t|)    \r\n",
        "(Intercept)   75.700      3.884   19.49   <2e-16 ***\r\n",
        "priGPA        17.261      1.083   15.94   <2e-16 ***\r\n",
        "ACT           -1.717      0.169  -10.16   <2e-16 ***\r\n",
        "---\r\n",
        "Signif. codes:  0 \u2018***\u2019 0.001 \u2018**\u2019 0.01 \u2018*\u2019 0.05 \u2018.\u2019 0.1 \u2018 \u2019 1\r\n",
        "\r\n",
        "Residual standard error: 14.38 on 677 degrees of freedom\r\n",
        "Multiple R-squared:  0.2906,\tAdjusted R-squared:  0.2885 \r\n",
        "F-statistic: 138.7 on 2 and 677 DF,  p-value: < 2.2e-16\r\n",
        "\r\n"
       ]
      }
     ],
     "prompt_number": 12
    },
    {
     "cell_type": "code",
     "collapsed": false,
     "input": [
      "%%writefile cx-3.5.r\n",
      "# similar to the example above\n"
     ],
     "language": "python",
     "metadata": {},
     "outputs": [
      {
       "output_type": "stream",
       "stream": "stdout",
       "text": [
        "Overwriting cx-3.5.r\n"
       ]
      }
     ],
     "prompt_number": 13
    },
    {
     "cell_type": "code",
     "collapsed": false,
     "input": [
      "%%writefile cx-3.6.r\n",
      "source('base/rhelper.r')\n",
      "\n",
      "data = read.csv(\"../datasets/raw/WAGE2.csv\")\n",
      "\n",
      "delta1 = lm(IQ~educ, data=data)$coefficients['educ']\n",
      "beta1_hat = lm(log(wage)~educ, data=data)$coefficients['educ']\n",
      "lmobj = lm(log(wage)~educ+IQ, data=data)\n",
      "\n",
      "beta1 = lmobj$coefficients['educ']\n",
      "beta2 = lmobj$coefficients['IQ']\n",
      "\n",
      "assert.equal(beta1_hat, beta1+beta2*delta1)\n"
     ],
     "language": "python",
     "metadata": {},
     "outputs": [
      {
       "output_type": "stream",
       "stream": "stdout",
       "text": [
        "Overwriting cx-3.6.r\n"
       ]
      }
     ],
     "prompt_number": 14
    },
    {
     "cell_type": "code",
     "collapsed": false,
     "input": [
      "!Rscript --vanilla cx-3.6.r"
     ],
     "language": "python",
     "metadata": {},
     "outputs": [],
     "prompt_number": 15
    },
    {
     "cell_type": "code",
     "collapsed": false,
     "input": [
      "%%writefile cx-3.7.r\n",
      "\n",
      "data = read.csv(\"../datasets/raw/MEAP93.csv\")\n",
      "\n",
      "lmobj = lm(math10~log(expend)+lnchprg, data=data)\n",
      "summary(lmobj)\n",
      "\n",
      "lm_simple = lm(math10~log(expend), data=data)\n",
      "summary(lm_simple)\n",
      "\n",
      "cor(log(data$expend), data$lnchprg)\n"
     ],
     "language": "python",
     "metadata": {},
     "outputs": [
      {
       "output_type": "stream",
       "stream": "stdout",
       "text": [
        "Overwriting cx-3.7.r\n"
       ]
      }
     ],
     "prompt_number": 16
    },
    {
     "cell_type": "code",
     "collapsed": false,
     "input": [
      "!Rscript --vanilla cx-3.7.r"
     ],
     "language": "python",
     "metadata": {},
     "outputs": [
      {
       "output_type": "stream",
       "stream": "stdout",
       "text": [
        "\r\n",
        "Call:\r\n",
        "lm(formula = math10 ~ log(expend) + lnchprg, data = data)\r\n",
        "\r\n",
        "Residuals:\r\n",
        "    Min      1Q  Median      3Q     Max \r\n",
        "-24.294  -6.172  -1.293   4.855  43.203 \r\n",
        "\r\n",
        "Coefficients:\r\n",
        "             Estimate Std. Error t value Pr(>|t|)    \r\n",
        "(Intercept) -20.36081   25.07287  -0.812   0.4172    \r\n",
        "log(expend)   6.22970    2.97263   2.096   0.0367 *  \r\n",
        "lnchprg      -0.30459    0.03536  -8.614   <2e-16 ***\r\n",
        "---\r\n",
        "Signif. codes:  0 \u2018***\u2019 0.001 \u2018**\u2019 0.01 \u2018*\u2019 0.05 \u2018.\u2019 0.1 \u2018 \u2019 1\r\n",
        "\r\n",
        "Residual standard error: 9.526 on 405 degrees of freedom\r\n",
        "Multiple R-squared:  0.1799,\tAdjusted R-squared:  0.1759 \r\n",
        "F-statistic: 44.43 on 2 and 405 DF,  p-value: < 2.2e-16\r\n",
        "\r\n",
        "\r\n",
        "Call:\r\n",
        "lm(formula = math10 ~ log(expend), data = data)\r\n",
        "\r\n",
        "Residuals:\r\n",
        "    Min      1Q  Median      3Q     Max \r\n",
        "-22.343  -7.100  -0.914   6.148  39.093 \r\n",
        "\r\n",
        "Coefficients:\r\n",
        "            Estimate Std. Error t value Pr(>|t|)    \r\n",
        "(Intercept)  -69.341     26.530  -2.614 0.009290 ** \r\n",
        "log(expend)   11.164      3.169   3.523 0.000475 ***\r\n",
        "---\r\n",
        "Signif. codes:  0 \u2018***\u2019 0.001 \u2018**\u2019 0.01 \u2018*\u2019 0.05 \u2018.\u2019 0.1 \u2018 \u2019 1\r\n",
        "\r\n",
        "Residual standard error: 10.35 on 406 degrees of freedom\r\n",
        "Multiple R-squared:  0.02966,\tAdjusted R-squared:  0.02727 \r\n",
        "F-statistic: 12.41 on 1 and 406 DF,  p-value: 0.0004752\r\n",
        "\r\n"
       ]
      },
      {
       "output_type": "stream",
       "stream": "stdout",
       "text": [
        "[1] -0.1927042\r\n"
       ]
      }
     ],
     "prompt_number": 17
    },
    {
     "cell_type": "code",
     "collapsed": false,
     "input": [
      "%%writefile cx-3.8.r\n",
      "\n",
      "data = read.csv(\"../datasets/raw/discrim.csv\")\n",
      "summary(data)\n",
      "\n",
      "lmobj = lm(psoda~prpblck+income, data=data)\n",
      "summary(lmobj)\n",
      "\n",
      "summary(lm(psoda~prpblck, data=data))\n",
      "summary(lm(log(psoda)~prpblck+log(income), data=data))\n",
      "summary(lm(log(psoda)~prpblck+log(income)+prppov, data=data))\n",
      "\n",
      "lincome=log(data$income)\n",
      "cor(lincome, data$prppov, use=\"complete.obs\")\n"
     ],
     "language": "python",
     "metadata": {},
     "outputs": [
      {
       "output_type": "stream",
       "stream": "stdout",
       "text": [
        "Overwriting cx-3.8.r\n"
       ]
      }
     ],
     "prompt_number": 18
    },
    {
     "cell_type": "code",
     "collapsed": false,
     "input": [
      "!Rscript --vanilla cx-3.8.r"
     ],
     "language": "python",
     "metadata": {},
     "outputs": [
      {
       "output_type": "stream",
       "stream": "stdout",
       "text": [
        "     psoda           pfries         pentree          wagest     \r\n",
        " Min.   :0.730   Min.   :0.670   Min.   :0.490   Min.   :4.250  \r\n",
        " 1st Qu.:0.980   1st Qu.:0.850   1st Qu.:0.950   1st Qu.:4.250  \r\n",
        " Median :1.060   Median :0.930   Median :1.020   Median :4.500  \r\n",
        " Mean   :1.045   Mean   :0.922   Mean   :1.322   Mean   :4.616  \r\n",
        " 3rd Qu.:1.085   3rd Qu.:1.000   3rd Qu.:1.470   3rd Qu.:4.950  \r\n",
        " Max.   :1.490   Max.   :1.270   Max.   :3.950   Max.   :5.750  \r\n",
        " NA's   :8       NA's   :17      NA's   :12      NA's   :20     \r\n",
        "     nmgrs           nregs          hrsopen           emp       \r\n",
        " Min.   : 1.00   Min.   :1.000   Min.   : 7.00   Min.   : 3.00  \r\n",
        " 1st Qu.: 3.00   1st Qu.:3.000   1st Qu.:12.00   1st Qu.:11.38  \r\n",
        " Median : 3.00   Median :3.000   Median :15.50   Median :16.38  \r\n",
        " Mean   : 3.42   Mean   :3.608   Mean   :14.44   Mean   :17.62  \r\n",
        " 3rd Qu.: 4.00   3rd Qu.:4.000   3rd Qu.:16.00   3rd Qu.:21.00  \r\n",
        " Max.   :10.00   Max.   :8.000   Max.   :24.00   Max.   :80.00  \r\n",
        " NA's   :6       NA's   :22                      NA's   :6      \r\n",
        "     psoda2         pfries2          pentree2        wagest2     \r\n",
        " Min.   :0.410   Min.   :0.6900   Min.   :0.410   Min.   :4.250  \r\n",
        " 1st Qu.:1.000   1st Qu.:0.8400   1st Qu.:0.940   1st Qu.:5.050  \r\n",
        " Median :1.050   Median :0.9400   Median :1.040   Median :5.050  \r\n",
        " Mean   :1.045   Mean   :0.9412   Mean   :1.354   Mean   :4.996  \r\n",
        " 3rd Qu.:1.103   3rd Qu.:1.0100   3rd Qu.:2.053   3rd Qu.:5.050  \r\n",
        " Max.   :1.400   Max.   :1.3700   Max.   :2.850   Max.   :6.250  \r\n",
        " NA's   :22      NA's   :28       NA's   :24      NA's   :21     \r\n",
        "     nmgrs2          nregs2         hrsopen2          emp2      \r\n",
        " Min.   :0.000   Min.   :1.000   Min.   : 8.00   Min.   : 0.00  \r\n",
        " 1st Qu.:3.000   1st Qu.:3.000   1st Qu.:12.00   1st Qu.:11.50  \r\n",
        " Median :3.000   Median :3.000   Median :15.00   Median :17.00  \r\n",
        " Mean   :3.484   Mean   :3.608   Mean   :14.47   Mean   :17.57  \r\n",
        " 3rd Qu.:4.000   3rd Qu.:4.000   3rd Qu.:16.00   3rd Qu.:22.50  \r\n",
        " Max.   :8.000   Max.   :8.000   Max.   :24.00   Max.   :55.50  \r\n",
        " NA's   :6       NA's   :22      NA's   :11      NA's   :13     \r\n",
        "    compown           chain          density          crmrte       \r\n",
        " Min.   :0.0000   Min.   :1.000   Min.   :  163   Min.   :0.00518  \r\n",
        " 1st Qu.:0.0000   1st Qu.:1.000   1st Qu.: 1666   1st Qu.:0.02888  \r\n",
        " Median :0.0000   Median :2.000   Median : 2868   Median :0.04312  \r\n",
        " Mean   :0.3439   Mean   :2.117   Mean   : 4562   Mean   :0.05338  \r\n",
        " 3rd Qu.:1.0000   3rd Qu.:3.000   3rd Qu.: 5660   3rd Qu.:0.06219  \r\n",
        " Max.   :1.0000   Max.   :4.000   Max.   :41437   Max.   :0.35971  \r\n",
        "                                  NA's   :1       NA's   :1        \r\n",
        "     state          prpblck            prppov            prpncar       \r\n",
        " Min.   :1.000   Min.   :0.00000   Min.   :0.004298   Min.   :0.00000  \r\n",
        " 1st Qu.:1.000   1st Qu.:0.01165   1st Qu.:0.029710   1st Qu.:0.04353  \r\n",
        " Median :1.000   Median :0.04144   Median :0.044441   Median :0.07389  \r\n",
        " Mean   :1.193   Mean   :0.11349   Mean   :0.071297   Mean   :0.11487  \r\n",
        " 3rd Qu.:1.000   3rd Qu.:0.12106   3rd Qu.:0.082159   3rd Qu.:0.12348  \r\n",
        " Max.   :2.000   Max.   :0.98166   Max.   :0.418480   Max.   :0.62724  \r\n",
        "                 NA's   :1         NA's   :1          NA's   :1        \r\n",
        "     hseval          nstores          income           county     \r\n",
        " Min.   : 33900   Min.   :1.000   Min.   : 15919   Min.   : 1.00  \r\n",
        " 1st Qu.:107900   1st Qu.:2.000   1st Qu.: 37883   1st Qu.: 6.00  \r\n",
        " Median :142300   Median :3.000   Median : 46272   Median :14.00  \r\n",
        " Mean   :147399   Mean   :3.139   Mean   : 47054   Mean   :13.66  \r\n",
        " 3rd Qu.:176800   3rd Qu.:4.000   3rd Qu.: 54981   3rd Qu.:20.00  \r\n",
        " Max.   :473400   Max.   :8.000   Max.   :136529   Max.   :29.00  \r\n",
        " NA's   :1                        NA's   :1                       \r\n",
        "     lpsoda            lpfries            lhseval         lincome      \r\n",
        " Min.   :-0.31471   Min.   :-0.40048   Min.   :10.43   Min.   : 9.675  \r\n",
        " 1st Qu.:-0.02020   1st Qu.:-0.16252   1st Qu.:11.59   1st Qu.:10.542  \r\n",
        " Median : 0.05827   Median :-0.07257   Median :11.87   Median :10.742  \r\n",
        " Mean   : 0.04032   Mean   :-0.08781   Mean   :11.83   Mean   :10.720  \r\n",
        " 3rd Qu.: 0.08155   3rd Qu.: 0.00000   3rd Qu.:12.08   3rd Qu.:10.915  \r\n",
        " Max.   : 0.39878   Max.   : 0.23902   Max.   :13.07   Max.   :11.824  \r\n",
        " NA's   :8          NA's   :17         NA's   :1       NA's   :1       \r\n",
        "    ldensity            NJ               BK              KFC        \r\n",
        " Min.   : 5.094   Min.   :0.0000   Min.   :0.0000   Min.   :0.0000  \r\n",
        " 1st Qu.: 7.418   1st Qu.:1.0000   1st Qu.:0.0000   1st Qu.:0.0000  \r\n",
        " Median : 7.961   Median :1.0000   Median :0.0000   Median :0.0000  \r\n",
        " Mean   : 7.959   Mean   :0.8073   Mean   :0.4171   Mean   :0.1951  \r\n",
        " 3rd Qu.: 8.641   3rd Qu.:1.0000   3rd Qu.:1.0000   3rd Qu.:0.0000  \r\n",
        " Max.   :10.632   Max.   :1.0000   Max.   :1.0000   Max.   :1.0000  \r\n",
        " NA's   :1                                                          \r\n",
        "       RR        \r\n",
        " Min.   :0.0000  \r\n",
        " 1st Qu.:0.0000  \r\n",
        " Median :0.0000  \r\n",
        " Mean   :0.2415  \r\n",
        " 3rd Qu.:0.0000  \r\n",
        " Max.   :1.0000  \r\n",
        "                 \r\n",
        "\r\n",
        "Call:\r\n",
        "lm(formula = psoda ~ prpblck + income, data = data)\r\n",
        "\r\n",
        "Residuals:\r\n",
        "     Min       1Q   Median       3Q      Max \r\n",
        "-0.29401 -0.05242  0.00333  0.04231  0.44322 \r\n",
        "\r\n",
        "Coefficients:\r\n",
        "             Estimate Std. Error t value Pr(>|t|)    \r\n",
        "(Intercept) 9.563e-01  1.899e-02  50.354  < 2e-16 ***\r\n",
        "prpblck     1.150e-01  2.600e-02   4.423 1.26e-05 ***\r\n",
        "income      1.603e-06  3.618e-07   4.430 1.22e-05 ***\r\n",
        "---\r\n",
        "Signif. codes:  0 \u2018***\u2019 0.001 \u2018**\u2019 0.01 \u2018*\u2019 0.05 \u2018.\u2019 0.1 \u2018 \u2019 1\r\n",
        "\r\n",
        "Residual standard error: 0.08611 on 398 degrees of freedom\r\n",
        "  (9 observations deleted due to missingness)\r\n",
        "Multiple R-squared:  0.06422,\tAdjusted R-squared:  0.05952 \r\n",
        "F-statistic: 13.66 on 2 and 398 DF,  p-value: 1.835e-06\r\n",
        "\r\n"
       ]
      },
      {
       "output_type": "stream",
       "stream": "stdout",
       "text": [
        "\r\n",
        "Call:\r\n",
        "lm(formula = psoda ~ prpblck, data = data)\r\n",
        "\r\n",
        "Residuals:\r\n",
        "     Min       1Q   Median       3Q      Max \r\n",
        "-0.30884 -0.05963  0.01135  0.03206  0.44840 \r\n",
        "\r\n",
        "Coefficients:\r\n",
        "            Estimate Std. Error t value Pr(>|t|)    \r\n",
        "(Intercept)  1.03740    0.00519  199.87  < 2e-16 ***\r\n",
        "prpblck      0.06493    0.02396    2.71  0.00702 ** \r\n",
        "---\r\n",
        "Signif. codes:  0 \u2018***\u2019 0.001 \u2018**\u2019 0.01 \u2018*\u2019 0.05 \u2018.\u2019 0.1 \u2018 \u2019 1\r\n",
        "\r\n",
        "Residual standard error: 0.0881 on 399 degrees of freedom\r\n",
        "  (9 observations deleted due to missingness)\r\n",
        "Multiple R-squared:  0.01808,\tAdjusted R-squared:  0.01561 \r\n",
        "F-statistic: 7.345 on 1 and 399 DF,  p-value: 0.007015\r\n",
        "\r\n",
        "\r\n",
        "Call:\r\n",
        "lm(formula = log(psoda) ~ prpblck + log(income), data = data)\r\n",
        "\r\n",
        "Residuals:\r\n",
        "     Min       1Q   Median       3Q      Max \r\n",
        "-0.33563 -0.04695  0.00658  0.04334  0.35413 \r\n",
        "\r\n",
        "Coefficients:\r\n",
        "            Estimate Std. Error t value Pr(>|t|)    \r\n",
        "(Intercept) -0.79377    0.17943  -4.424 1.25e-05 ***\r\n",
        "prpblck      0.12158    0.02575   4.722 3.24e-06 ***\r\n",
        "log(income)  0.07651    0.01660   4.610 5.43e-06 ***\r\n",
        "---\r\n",
        "Signif. codes:  0 \u2018***\u2019 0.001 \u2018**\u2019 0.01 \u2018*\u2019 0.05 \u2018.\u2019 0.1 \u2018 \u2019 1\r\n",
        "\r\n",
        "Residual standard error: 0.0821 on 398 degrees of freedom\r\n",
        "  (9 observations deleted due to missingness)\r\n",
        "Multiple R-squared:  0.06809,\tAdjusted R-squared:  0.06341 \r\n",
        "F-statistic: 14.54 on 2 and 398 DF,  p-value: 8.039e-07\r\n",
        "\r\n",
        "\r\n",
        "Call:\r\n",
        "lm(formula = log(psoda) ~ prpblck + log(income) + prppov, data = data)\r\n",
        "\r\n",
        "Residuals:\r\n",
        "     Min       1Q   Median       3Q      Max \r\n",
        "-0.32218 -0.04648  0.00651  0.04272  0.35622 \r\n",
        "\r\n",
        "Coefficients:\r\n",
        "            Estimate Std. Error t value Pr(>|t|)    \r\n",
        "(Intercept) -1.46333    0.29371  -4.982  9.4e-07 ***\r\n",
        "prpblck      0.07281    0.03068   2.373   0.0181 *  \r\n",
        "log(income)  0.13696    0.02676   5.119  4.8e-07 ***\r\n",
        "prppov       0.38036    0.13279   2.864   0.0044 ** \r\n",
        "---\r\n",
        "Signif. codes:  0 \u2018***\u2019 0.001 \u2018**\u2019 0.01 \u2018*\u2019 0.05 \u2018.\u2019 0.1 \u2018 \u2019 1\r\n",
        "\r\n",
        "Residual standard error: 0.08137 on 397 degrees of freedom\r\n",
        "  (9 observations deleted due to missingness)\r\n",
        "Multiple R-squared:  0.08696,\tAdjusted R-squared:  0.08006 \r\n",
        "F-statistic:  12.6 on 3 and 397 DF,  p-value: 6.917e-08\r\n",
        "\r\n",
        "[1] -0.838467\r\n"
       ]
      }
     ],
     "prompt_number": 19
    },
    {
     "cell_type": "code",
     "collapsed": false,
     "input": [
      "%%writefile cx-3.9.r\n",
      "\n",
      "data = read.csv(\"../datasets/raw/charity.csv\")\n",
      "\n",
      "lmobj = lm(gift~mailsyear+giftlast+propresp, data=data)\n",
      "\n",
      "summary(lmobj)\n",
      "\n",
      "summary(lm(gift~mailsyear, data=data))\n",
      "\n",
      "summary(lm(gift~mailsyear+giftlast+propresp+avggift, data=data))\n"
     ],
     "language": "python",
     "metadata": {},
     "outputs": [
      {
       "output_type": "stream",
       "stream": "stdout",
       "text": [
        "Overwriting cx-3.9.r\n"
       ]
      }
     ],
     "prompt_number": 20
    },
    {
     "cell_type": "code",
     "collapsed": false,
     "input": [
      "!Rscript --vanilla cx-3.9.r"
     ],
     "language": "python",
     "metadata": {},
     "outputs": [
      {
       "output_type": "stream",
       "stream": "stdout",
       "text": [
        "\r\n",
        "Call:\r\n",
        "lm(formula = gift ~ mailsyear + giftlast + propresp, data = data)\r\n",
        "\r\n",
        "Residuals:\r\n",
        "    Min      1Q  Median      3Q     Max \r\n",
        "-52.893  -7.050  -3.650   1.397 241.206 \r\n",
        "\r\n",
        "Coefficients:\r\n",
        "             Estimate Std. Error t value Pr(>|t|)    \r\n",
        "(Intercept) -4.551519   0.803034  -5.668 1.54e-08 ***\r\n",
        "mailsyear    2.166259   0.331927   6.526 7.53e-11 ***\r\n",
        "giftlast     0.005927   0.001432   4.138 3.58e-05 ***\r\n",
        "propresp    15.358605   0.874539  17.562  < 2e-16 ***\r\n",
        "---\r\n",
        "Signif. codes:  0 \u2018***\u2019 0.001 \u2018**\u2019 0.01 \u2018*\u2019 0.05 \u2018.\u2019 0.1 \u2018 \u2019 1\r\n",
        "\r\n",
        "Residual standard error: 14.43 on 4264 degrees of freedom\r\n",
        "Multiple R-squared:  0.08336,\tAdjusted R-squared:  0.08271 \r\n",
        "F-statistic: 129.3 on 3 and 4264 DF,  p-value: < 2.2e-16\r\n",
        "\r\n",
        "\r\n",
        "Call:\r\n",
        "lm(formula = gift ~ mailsyear, data = data)\r\n",
        "\r\n",
        "Residuals:\r\n",
        "    Min      1Q  Median      3Q     Max \r\n",
        "-11.287  -7.976  -5.976   2.687 245.999 \r\n",
        "\r\n",
        "Coefficients:\r\n",
        "            Estimate Std. Error t value Pr(>|t|)    \r\n",
        "(Intercept)   2.0141     0.7395   2.724  0.00648 ** \r\n",
        "mailsyear     2.6495     0.3431   7.723  1.4e-14 ***\r\n",
        "---\r\n",
        "Signif. codes:  0 \u2018***\u2019 0.001 \u2018**\u2019 0.01 \u2018*\u2019 0.05 \u2018.\u2019 0.1 \u2018 \u2019 1\r\n",
        "\r\n",
        "Residual standard error: 14.96 on 4266 degrees of freedom\r\n",
        "Multiple R-squared:  0.01379,\tAdjusted R-squared:  0.01356 \r\n",
        "F-statistic: 59.65 on 1 and 4266 DF,  p-value: 1.404e-14\r\n",
        "\r\n"
       ]
      },
      {
       "output_type": "stream",
       "stream": "stdout",
       "text": [
        "\r\n",
        "Call:\r\n",
        "lm(formula = gift ~ mailsyear + giftlast + propresp + avggift, \r\n",
        "    data = data)\r\n",
        "\r\n",
        "Residuals:\r\n",
        "     Min       1Q   Median       3Q      Max \r\n",
        "-197.016   -5.883   -2.065    3.031  221.256 \r\n",
        "\r\n",
        "Coefficients:\r\n",
        "            Estimate Std. Error t value Pr(>|t|)    \r\n",
        "(Intercept) -7.32776    0.75822  -9.664  < 2e-16 ***\r\n",
        "mailsyear    1.20117    0.31242   3.845 0.000122 ***\r\n",
        "giftlast    -0.26086    0.01076 -24.251  < 2e-16 ***\r\n",
        "propresp    16.20464    0.81753  19.821  < 2e-16 ***\r\n",
        "avggift      0.52695    0.02108  24.996  < 2e-16 ***\r\n",
        "---\r\n",
        "Signif. codes:  0 \u2018***\u2019 0.001 \u2018**\u2019 0.01 \u2018*\u2019 0.05 \u2018.\u2019 0.1 \u2018 \u2019 1\r\n",
        "\r\n",
        "Residual standard error: 13.47 on 4263 degrees of freedom\r\n",
        "Multiple R-squared:  0.2005,\tAdjusted R-squared:  0.1998 \r\n",
        "F-statistic: 267.3 on 4 and 4263 DF,  p-value: < 2.2e-16\r\n",
        "\r\n"
       ]
      }
     ],
     "prompt_number": 21
    },
    {
     "cell_type": "code",
     "collapsed": true,
     "input": [
      "from IPython.core.display import HTML\n",
      "\n",
      "styles = open(\"styles/custom.css\", \"r\").read()\n",
      "HTML(styles)\n"
     ],
     "language": "python",
     "metadata": {},
     "outputs": [
      {
       "html": [
        "/* This style is mostly copied with minor changes and some \n",
        " * simplicities from an impresive repo of @CamDavidsonPilon:\n",
        " * \n",
        " * https://github.com/CamDavidsonPilon/Probabilistic-Programming-and-Bayesian-Methods-for-Hackers\n",
        " *\n",
        " */\n",
        "\n",
        "<style>\n",
        "    div.cell{\n",
        "        width: 850px;\n",
        "        margin-left: 14%;\n",
        "        margin-right: auto;\n",
        "    }\n",
        "    div.text_cell_render{\n",
        "        line-height: 120%;\n",
        "        font-size: 120%;\n",
        "        width: 850px;\n",
        "        margin-left: auto;\n",
        "        margin-right: auto;\n",
        "    }\n",
        "    h2 {\n",
        "        border-bottom-color: #ddd;\n",
        "        border-width: 1px;\n",
        "        border-bottom-style:solid;\n",
        "    }\n",
        "</style>\n",
        "\n",
        "<script>\n",
        "    MathJax.Hub.Config({\n",
        "        TeX: {\n",
        "            extensions: [\"AMSmath.js\"],\n",
        "            equationNumbers: { autoNumber: \"AMS\" }\n",
        "        },\n",
        "        displayAlign: 'center'\n",
        "    });\n",
        "</script>\n"
       ],
       "metadata": {},
       "output_type": "pyout",
       "prompt_number": 22,
       "text": [
        "<IPython.core.display.HTML at 0x7f9f53ea01d0>"
       ]
      }
     ],
     "prompt_number": 22
    },
    {
     "cell_type": "code",
     "collapsed": false,
     "input": [],
     "language": "python",
     "metadata": {},
     "outputs": [],
     "prompt_number": 22
    }
   ],
   "metadata": {}
  }
 ]
}